{
 "cells": [
  {
   "cell_type": "markdown",
   "metadata": {},
   "source": [
    "### MACHINE LEARNING PROJECT I\n",
    "\n",
    "#### TEAM MEMBERS: ASLI YORUSUN - ERDEM BOCUGOZ - SERIF SONER SERBEST"
   ]
  },
  {
   "cell_type": "code",
   "execution_count": 150,
   "metadata": {},
   "outputs": [
    {
     "name": "stdout",
     "output_type": "stream",
     "text": [
      "The autoreload extension is already loaded. To reload it, use:\n",
      "  %reload_ext autoreload\n"
     ]
    }
   ],
   "source": [
    "# Useful starting lines\n",
    "%matplotlib inline\n",
    "import numpy as np\n",
    "import datetime\n",
    "import matplotlib.pyplot as plt\n",
    "\n",
    "from proj1_helpers import *\n",
    "from implementations import *\n",
    "from test import *\n",
    "from data import *\n",
    "\n",
    "%load_ext autoreload\n",
    "%autoreload 2"
   ]
  },
  {
   "cell_type": "code",
   "execution_count": 82,
   "metadata": {},
   "outputs": [],
   "source": [
    "prediction,data,id_ = load_csv_data(\"train.csv\", sub_sample=False)"
   ]
  },
  {
   "cell_type": "code",
   "execution_count": 83,
   "metadata": {},
   "outputs": [
    {
     "data": {
      "text/plain": [
       "(250000, 30)"
      ]
     },
     "execution_count": 83,
     "metadata": {},
     "output_type": "execute_result"
    }
   ],
   "source": [
    "data.shape"
   ]
  },
  {
   "cell_type": "markdown",
   "metadata": {},
   "source": [
    "### Data Cleaning & Standardization"
   ]
  },
  {
   "cell_type": "code",
   "execution_count": 84,
   "metadata": {},
   "outputs": [],
   "source": [
    "pred_0, pred_1, pred_2, pred_3, data_0, data_1, data_2, data_3, indices_0, indices_1, indices_2, indices_3 = categorizeData(prediction, data)\n",
    "\n",
    "data_0 = clean_data(data_0)\n",
    "data_1 = clean_data(data_1)\n",
    "data_2 = clean_data(data_2)\n",
    "data_3 = clean_data(data_3)\n"
   ]
  },
  {
   "cell_type": "code",
   "execution_count": 86,
   "metadata": {},
   "outputs": [],
   "source": [
    "x0, mean_x0, std_x0 = standardize(data_0)\n",
    "y0, tx0 = build_model_data(pred_0,x0)\n",
    "\n",
    "x1, mean_x1, std_x1 = standardize(data_1)\n",
    "y1, tx1 = build_model_data(pred_1,x1)\n",
    "\n",
    "x2, mean_x2, std_x2 = standardize(data_2)\n",
    "y2, tx2 = build_model_data(pred_2,x2)\n",
    "\n",
    "x3, mean_x3, std_x3 = standardize(data_3)\n",
    "y3, tx3 = build_model_data(pred_3,x3)\n"
   ]
  },
  {
   "cell_type": "markdown",
   "metadata": {},
   "source": [
    "### Gradient Descent"
   ]
  },
  {
   "cell_type": "code",
   "execution_count": 5,
   "metadata": {},
   "outputs": [],
   "source": [
    "# Define the parameters of the algorithm.\n",
    "max_iters = 1000\n",
    "gamma = 0.00001\n",
    "\n",
    "# Initialization\n",
    "#initial_w = np.zeros(tx.shape[1])\n",
    "\n",
    "#weights, loss = least_squares_GD(y, tx, initial_w, max_iters, gamma)"
   ]
  },
  {
   "cell_type": "markdown",
   "metadata": {},
   "source": [
    "### Stochastic Gradient Descent"
   ]
  },
  {
   "cell_type": "code",
   "execution_count": 6,
   "metadata": {},
   "outputs": [],
   "source": [
    "# Define the parameters of the algorithm.\n",
    "max_iters = 1000\n",
    "gamma = 0.00001\n",
    "\n",
    "# Initialization\n",
    "#initial_w = np.zeros(tx.shape[1])\n",
    "\n",
    "#weights, loss = least_squares_GD(y, tx, initial_w, max_iters, gamma)"
   ]
  },
  {
   "cell_type": "markdown",
   "metadata": {},
   "source": [
    "### Least Squares"
   ]
  },
  {
   "cell_type": "code",
   "execution_count": 74,
   "metadata": {
    "scrolled": true
   },
   "outputs": [
    {
     "name": "stdout",
     "output_type": "stream",
     "text": [
      "0.07241289396950215\n",
      "[-4.64988198  0.06344158]\n",
      "Least Squares, rmse=0.07241289396950215\n"
     ]
    }
   ],
   "source": [
    "weights, loss = least_squares(y, tx)\n",
    "\n",
    "print(loss)\n",
    "print(weights)\n",
    "\n",
    "rmse = compute_loss(y, tx, weights)\n",
    "print(\"Least Squares, rmse={loss}\".format(loss=rmse)) "
   ]
  },
  {
   "cell_type": "markdown",
   "metadata": {},
   "source": [
    "### Ridge Regression"
   ]
  },
  {
   "cell_type": "code",
   "execution_count": 7,
   "metadata": {},
   "outputs": [],
   "source": [
    "seed = 1\n",
    "degree = 10\n",
    "split_ratio = 0.9\n",
    "#ridge_regression_demo(x, y, degree, split_ratio, seed)"
   ]
  },
  {
   "cell_type": "markdown",
   "metadata": {},
   "source": [
    "### Logistic Regression"
   ]
  },
  {
   "cell_type": "code",
   "execution_count": 47,
   "metadata": {},
   "outputs": [
    {
     "data": {
      "text/plain": [
       "((200, 2), (200, 1))"
      ]
     },
     "execution_count": 47,
     "metadata": {},
     "output_type": "execute_result"
    }
   ],
   "source": [
    "x.shape, y.shape"
   ]
  },
  {
   "cell_type": "code",
   "execution_count": 155,
   "metadata": {},
   "outputs": [
    {
     "name": "stdout",
     "output_type": "stream",
     "text": [
      "Current iteration=0, loss=0.6931471805599453\n",
      "Current iteration=2500, loss=0.3936871856538098\n",
      "Current iteration=5000, loss=0.39161775109265323\n",
      "Current iteration=7500, loss=0.39137420433127756\n",
      "loss=0.39134852599542513\n",
      "Current iteration=0, loss=0.6931471805599453\n",
      "Current iteration=2500, loss=0.5407662521617221\n",
      "loss=0.5406249281330912\n",
      "Current iteration=0, loss=0.6931471805599453\n",
      "Current iteration=2500, loss=0.5157210630788621\n",
      "Current iteration=5000, loss=0.5154762409340249\n",
      "loss=0.5154750255408146\n",
      "Current iteration=0, loss=0.6931471805599453\n",
      "Current iteration=2500, loss=0.5281193135974092\n",
      "loss=0.5280165048198894\n"
     ]
    }
   ],
   "source": [
    "# init parameters\n",
    "max_iter = 10000\n",
    "threshold = 1e-8\n",
    "gamma = 0.1\n",
    "\n",
    "w0 = logistic_regression_gradient_descent_demo(y0, tx0, max_iter, threshold, gamma)\n",
    "w1 = logistic_regression_gradient_descent_demo(y1, tx1, max_iter, threshold, gamma)\n",
    "w2 = logistic_regression_gradient_descent_demo(y2, tx2, max_iter, threshold, gamma)\n",
    "w3 = logistic_regression_gradient_descent_demo(y3, tx3, max_iter, threshold, gamma)"
   ]
  },
  {
   "cell_type": "code",
   "execution_count": 156,
   "metadata": {},
   "outputs": [
    {
     "data": {
      "text/plain": [
       "0.747592"
      ]
     },
     "execution_count": 156,
     "metadata": {},
     "output_type": "execute_result"
    }
   ],
   "source": [
    "### Test Log Reg\n",
    "\n",
    "y_pred0 = predict_labels(w0,tx0)\n",
    "y_pred1 = predict_labels(w1,tx1)\n",
    "y_pred2 = predict_labels(w2,tx2)\n",
    "y_pred3 = predict_labels(w3,tx3)\n",
    "\n",
    "rows = prediction.shape[0]\n",
    "labels = decategorizePrediction(rows, y_pred0, y_pred1, y_pred2, y_pred3, indices_0, indices_1, indices_2, indices_3)\n",
    "\n",
    "labels = np.where(labels == -1, 0, labels)\n",
    "\n",
    "score = np.invert(np.logical_xor(prediction, np.squeeze(labels)))\n",
    "score.mean()"
   ]
  },
  {
   "cell_type": "markdown",
   "metadata": {},
   "source": [
    "### Cross Validation"
   ]
  },
  {
   "cell_type": "code",
   "execution_count": 36,
   "metadata": {},
   "outputs": [],
   "source": [
    "seed = 32\n",
    "degree = 10\n",
    "k_fold = 4\n",
    "step = 15\n",
    "lambdas = np.logspace(-10, 0, step)\n",
    "cross_validation_demo(y, x, seed, degree, k_fold, step, lambdas)"
   ]
  },
  {
   "cell_type": "markdown",
   "metadata": {
    "collapsed": true
   },
   "source": [
    "### TEST"
   ]
  },
  {
   "cell_type": "code",
   "execution_count": 103,
   "metadata": {},
   "outputs": [
    {
     "name": "stdout",
     "output_type": "stream",
     "text": [
      "[1. 1. 1. ... 1. 1. 1.]\n"
     ]
    }
   ],
   "source": [
    "test_label,test_data,test_id_ = load_csv_data(\"test.csv\", sub_sample=False)\n",
    "print(test_label)"
   ]
  },
  {
   "cell_type": "code",
   "execution_count": 104,
   "metadata": {},
   "outputs": [],
   "source": [
    "pred_0_test, pred_1_test, pred_2_test, pred_3_test, data_0_test, data_1_test, data_2_test, data_3_test, indices_0_test, indices_1_test, indices_2_test, indices_3_test = categorizeData(test_label, test_data)\n",
    "\n",
    "data_0_test = clean_data(data_0_test)\n",
    "data_1_test = clean_data(data_1_test)\n",
    "data_2_test = clean_data(data_2_test)\n",
    "data_3_test = clean_data(data_3_test)"
   ]
  },
  {
   "cell_type": "code",
   "execution_count": 105,
   "metadata": {},
   "outputs": [],
   "source": [
    "x0_test, mean_x0_test, std_x0_test = standardize(data_0_test)\n",
    "y0_test, tx0_test = build_model_data(pred_0_test,x0_test)\n",
    "\n",
    "x1_test, mean_x1_test, std_x1_test = standardize(data_1_test)\n",
    "y1_test, tx1_test = build_model_data(pred_1_test,x1_test)\n",
    "\n",
    "x2_test, mean_x2_test, std_x2_test = standardize(data_2_test)\n",
    "y2_test, tx2_test = build_model_data(pred_2_test,x2_test)\n",
    "\n",
    "x3_test, mean_x3_test, std_x3_test = standardize(data_3_test)\n",
    "y3_test, tx3_test = build_model_data(pred_3_test,x3_test)"
   ]
  },
  {
   "cell_type": "code",
   "execution_count": 106,
   "metadata": {},
   "outputs": [],
   "source": [
    "y_pred0 = predict_labels(w0,tx0_test)\n",
    "y_pred1 = predict_labels(w1,tx1_test)\n",
    "y_pred2 = predict_labels(w2,tx2_test)\n",
    "y_pred3 = predict_labels(w3,tx3_test)"
   ]
  },
  {
   "cell_type": "code",
   "execution_count": 120,
   "metadata": {},
   "outputs": [
    {
     "name": "stdout",
     "output_type": "stream",
     "text": [
      "[[-1.]\n",
      " [-1.]\n",
      " [-1.]\n",
      " ...\n",
      " [ 1.]\n",
      " [-1.]\n",
      " [-1.]]\n"
     ]
    }
   ],
   "source": [
    "rows = test_label.shape[0]\n",
    "labels = decategorizePrediction(rows, y_pred0, y_pred1, y_pred2, y_pred3, indices_0_test, indices_1_test, indices_2_test, indices_3_test)"
   ]
  },
  {
   "cell_type": "code",
   "execution_count": 121,
   "metadata": {},
   "outputs": [],
   "source": [
    "create_csv_submission(test_id_,labels,\"logisticReg_submission.csv\")"
   ]
  },
  {
   "cell_type": "code",
   "execution_count": null,
   "metadata": {
    "collapsed": true
   },
   "outputs": [],
   "source": []
  }
 ],
 "metadata": {
  "kernelspec": {
   "display_name": "Python 3",
   "language": "python",
   "name": "python3"
  },
  "language_info": {
   "codemirror_mode": {
    "name": "ipython",
    "version": 3
   },
   "file_extension": ".py",
   "mimetype": "text/x-python",
   "name": "python",
   "nbconvert_exporter": "python",
   "pygments_lexer": "ipython3",
   "version": "3.6.5"
  }
 },
 "nbformat": 4,
 "nbformat_minor": 2
}
