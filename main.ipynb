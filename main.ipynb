{
 "cells": [
  {
   "cell_type": "markdown",
   "metadata": {},
   "source": [
    "### MACHINE LEARNING PROJECT I"
   ]
  },
  {
   "cell_type": "code",
   "execution_count": 124,
   "metadata": {},
   "outputs": [
    {
     "name": "stdout",
     "output_type": "stream",
     "text": [
      "The autoreload extension is already loaded. To reload it, use:\n",
      "  %reload_ext autoreload\n"
     ]
    }
   ],
   "source": [
    "# Useful starting lines\n",
    "%matplotlib inline\n",
    "import numpy as np\n",
    "import datetime\n",
    "import matplotlib.pyplot as plt\n",
    "from proj1_helpers import *\n",
    "from implementations import *\n",
    "from test import *\n",
    "%load_ext autoreload\n",
    "%autoreload 2"
   ]
  },
  {
   "cell_type": "code",
   "execution_count": 125,
   "metadata": {},
   "outputs": [],
   "source": [
    "prediction,data,id_ = load_csv_data(\"train.csv\", sub_sample=True)"
   ]
  },
  {
   "cell_type": "code",
   "execution_count": 126,
   "metadata": {},
   "outputs": [],
   "source": [
    "def nan_if (arr,value):\n",
    "    return ( np.where(arr==value,np.nan,arr))\n",
    "\n",
    "means = np.nanmean(nan_if(data,-999),axis = 0)\n",
    "\n",
    "for i,mean in enumerate(means):\n",
    "    dataCol = data[:,i]\n",
    "    dataCol[np.where(dataCol == -999)] = mean\n",
    "    data[:,i] = dataCol"
   ]
  },
  {
   "cell_type": "code",
   "execution_count": 127,
   "metadata": {},
   "outputs": [],
   "source": [
    "x,mean_x,std_x = standardize(data)\n",
    "y,tx = build_model_data(prediction,x)"
   ]
  },
  {
   "cell_type": "code",
   "execution_count": 128,
   "metadata": {},
   "outputs": [
    {
     "data": {
      "text/plain": [
       "((5000,), (5000, 31))"
      ]
     },
     "execution_count": 128,
     "metadata": {},
     "output_type": "execute_result"
    }
   ],
   "source": [
    "y.shape, tx.shape"
   ]
  },
  {
   "cell_type": "markdown",
   "metadata": {},
   "source": [
    "### Gradient Descent"
   ]
  },
  {
   "cell_type": "code",
   "execution_count": 129,
   "metadata": {},
   "outputs": [
    {
     "name": "stdout",
     "output_type": "stream",
     "text": [
      "Gradient Descent(0/4): loss=0.5\n",
      "Gradient Descent(1/4): loss=0.49285829041712187\n",
      "Gradient Descent(2/4): loss=0.48714977833453776\n",
      "Gradient Descent(3/4): loss=0.4825500959076668\n",
      "Gradient Descent(4/4): loss=0.478808972141307\n",
      "Gradient Descent: execution time=0.006 seconds\n"
     ]
    }
   ],
   "source": [
    "# Define the parameters of the algorithm.\n",
    "max_iters = 5\n",
    "gamma = 0.005\n",
    "\n",
    "# Initialization\n",
    "w_initial = np.zeros(tx.shape[1])\n",
    "\n",
    "# Start gradient descent.\n",
    "start_time = datetime.datetime.now()\n",
    "gradient_losses, gradient_ws = gradient_descent(y, tx, w_initial, max_iters, gamma)\n",
    "end_time = datetime.datetime.now()\n",
    "\n",
    "# Print result\n",
    "exection_time = (end_time - start_time).total_seconds()\n",
    "print(\"Gradient Descent: execution time={t:.3f} seconds\".format(t=exection_time))"
   ]
  },
  {
   "cell_type": "markdown",
   "metadata": {},
   "source": [
    "### Stochastic Gradient Descent"
   ]
  },
  {
   "cell_type": "code",
   "execution_count": 130,
   "metadata": {},
   "outputs": [
    {
     "name": "stdout",
     "output_type": "stream",
     "text": [
      "SGD(0/4): loss=0.5486662322086017\n",
      "SGD(1/4): loss=0.4961970168835312\n",
      "SGD(2/4): loss=0.4792188654077803\n",
      "SGD(3/4): loss=0.47360062494420035\n",
      "SGD(4/4): loss=0.47425897901712033\n",
      "SGD: execution time=0.006 seconds\n"
     ]
    }
   ],
   "source": [
    "# Define the parameters of the algorithm.\n",
    "max_iters = 5\n",
    "gamma = 0.005\n",
    "batch_size = 1\n",
    "\n",
    "# Initialization\n",
    "w_initial = np.zeros(tx.shape[1])\n",
    "\n",
    "# Start SGD.\n",
    "start_time = datetime.datetime.now()\n",
    "sgd_losses, sgd_ws = stochastic_gradient_descent(\n",
    "    y, tx, w_initial, batch_size, max_iters, gamma)\n",
    "end_time = datetime.datetime.now()\n",
    "\n",
    "# Print result\n",
    "exection_time = (end_time - start_time).total_seconds()\n",
    "print(\"SGD: execution time={t:.3f} seconds\".format(t=exection_time))"
   ]
  },
  {
   "cell_type": "markdown",
   "metadata": {},
   "source": [
    "### Least Squares"
   ]
  },
  {
   "cell_type": "code",
   "execution_count": 131,
   "metadata": {},
   "outputs": [
    {
     "name": "stdout",
     "output_type": "stream",
     "text": [
      "Least Squares, rmse=0.8091463871124553\n"
     ]
    }
   ],
   "source": [
    "weights = least_squares(y, tx)\n",
    "# compute RMSE\n",
    "mse = compute_loss(y, tx, weights)\n",
    "rmse = np.sqrt(2 * mse)\n",
    "\n",
    "print(\"Least Squares, rmse={loss}\".format(loss=rmse)) "
   ]
  },
  {
   "cell_type": "markdown",
   "metadata": {},
   "source": [
    "### Ridge Regression"
   ]
  },
  {
   "cell_type": "code",
   "execution_count": 133,
   "metadata": {},
   "outputs": [
    {
     "name": "stdout",
     "output_type": "stream",
     "text": [
      "proportion=0.7, degree=10, lambda=0.000, Training RMSE=0.722, Testing RMSE=246.420\n",
      "proportion=0.7, degree=10, lambda=0.000, Training RMSE=0.723, Testing RMSE=241.589\n",
      "proportion=0.7, degree=10, lambda=0.000, Training RMSE=0.723, Testing RMSE=236.399\n",
      "proportion=0.7, degree=10, lambda=0.000, Training RMSE=0.724, Testing RMSE=230.870\n",
      "proportion=0.7, degree=10, lambda=0.000, Training RMSE=0.724, Testing RMSE=224.854\n",
      "proportion=0.7, degree=10, lambda=0.000, Training RMSE=0.724, Testing RMSE=218.624\n",
      "proportion=0.7, degree=10, lambda=0.000, Training RMSE=0.725, Testing RMSE=212.099\n",
      "proportion=0.7, degree=10, lambda=0.000, Training RMSE=0.725, Testing RMSE=205.433\n",
      "proportion=0.7, degree=10, lambda=0.000, Training RMSE=0.725, Testing RMSE=198.473\n",
      "proportion=0.7, degree=10, lambda=0.000, Training RMSE=0.726, Testing RMSE=191.321\n",
      "proportion=0.7, degree=10, lambda=0.000, Training RMSE=0.726, Testing RMSE=184.029\n",
      "proportion=0.7, degree=10, lambda=0.000, Training RMSE=0.726, Testing RMSE=176.386\n",
      "proportion=0.7, degree=10, lambda=0.000, Training RMSE=0.727, Testing RMSE=168.754\n",
      "proportion=0.7, degree=10, lambda=0.000, Training RMSE=0.727, Testing RMSE=161.020\n",
      "proportion=0.7, degree=10, lambda=0.000, Training RMSE=0.727, Testing RMSE=153.060\n",
      "proportion=0.7, degree=10, lambda=0.000, Training RMSE=0.727, Testing RMSE=144.943\n",
      "proportion=0.7, degree=10, lambda=0.000, Training RMSE=0.728, Testing RMSE=136.682\n",
      "proportion=0.7, degree=10, lambda=0.000, Training RMSE=0.728, Testing RMSE=128.300\n",
      "proportion=0.7, degree=10, lambda=0.000, Training RMSE=0.728, Testing RMSE=119.722\n",
      "proportion=0.7, degree=10, lambda=0.000, Training RMSE=0.729, Testing RMSE=111.205\n",
      "proportion=0.7, degree=10, lambda=0.000, Training RMSE=0.729, Testing RMSE=102.696\n",
      "proportion=0.7, degree=10, lambda=0.000, Training RMSE=0.730, Testing RMSE=94.207\n",
      "proportion=0.7, degree=10, lambda=0.000, Training RMSE=0.730, Testing RMSE=85.926\n",
      "proportion=0.7, degree=10, lambda=0.000, Training RMSE=0.730, Testing RMSE=77.872\n",
      "proportion=0.7, degree=10, lambda=0.000, Training RMSE=0.731, Testing RMSE=70.005\n",
      "proportion=0.7, degree=10, lambda=0.000, Training RMSE=0.731, Testing RMSE=62.513\n",
      "proportion=0.7, degree=10, lambda=0.000, Training RMSE=0.732, Testing RMSE=55.373\n",
      "proportion=0.7, degree=10, lambda=0.000, Training RMSE=0.732, Testing RMSE=48.590\n",
      "proportion=0.7, degree=10, lambda=0.000, Training RMSE=0.733, Testing RMSE=42.157\n",
      "proportion=0.7, degree=10, lambda=0.000, Training RMSE=0.733, Testing RMSE=36.058\n"
     ]
    },
    {
     "data": {
      "image/png": "[encoded data removed]",
      "text/plain": [
       "<Figure size 432x288 with 1 Axes>"
      ]
     },
     "metadata": {},
     "output_type": "display_data"
    }
   ],
   "source": [
    "def ridge_regression_demo(x, y, degree, ratio, seed):\n",
    "    \"\"\"ridge regression demo.\"\"\"\n",
    "    # define parameter\n",
    "    lambdas = np.logspace(-7, -5, 30)\n",
    "    # split data\n",
    "    x_tr, x_te, y_tr, y_te = split_data(x, y, ratio, seed)\n",
    "    # form tx\n",
    "    tx_tr = build_poly(x_tr, degree)\n",
    "    tx_te = build_poly(x_te, degree)\n",
    "\n",
    "    # ridge regression with different lambda\n",
    "    rmse_tr = []\n",
    "    rmse_te = []\n",
    "    for ind, lambda_ in enumerate(lambdas):\n",
    "        # ridge regression\n",
    "        weight = ridge_regression(y_tr, tx_tr, lambda_)\n",
    "        rmse_tr.append(np.sqrt(2 * compute_loss(y_tr, tx_tr, weight)))\n",
    "        rmse_te.append(np.sqrt(2 * compute_loss(y_te, tx_te, weight)))\n",
    "\n",
    "        print(\"proportion={p}, degree={d}, lambda={l:.3f}, Training RMSE={tr:.3f}, Testing RMSE={te:.3f}\".format(\n",
    "               p=ratio, d=degree, l=lambda_, tr=rmse_tr[ind], te=rmse_te[ind]))\n",
    "    plot_train_test(rmse_tr, rmse_te, lambdas, degree)\n",
    "    \n",
    "seed = 56\n",
    "degree = 10\n",
    "split_ratio = 0.7\n",
    "ridge_regression_demo(x, y, degree, split_ratio, seed)"
   ]
  },
  {
   "cell_type": "code",
   "execution_count": 135,
   "metadata": {},
   "outputs": [
    {
     "data": {
      "image/png": "[encoded data removed]",
      "text/plain": [
       "<Figure size 432x288 with 1 Axes>"
      ]
     },
     "metadata": {},
     "output_type": "display_data"
    }
   ],
   "source": [
    "def cross_validation_demo():\n",
    "    seed = 1\n",
    "    degree = 7\n",
    "    k_fold = 4\n",
    "    lambdas = np.logspace(-10, 0, 50)\n",
    "    # split data in k fold\n",
    "    k_indices = build_k_indices(y, k_fold, seed)\n",
    "    # define lists to store the loss of training data and test data\n",
    "    rmse_tr = []\n",
    "    rmse_te = []\n",
    "    # ***************************************************\n",
    "    # INSERT YOUR CODE HERE\n",
    "    rmse_tr = []\n",
    "    rmse_te = []\n",
    "    for ind, lambda_ in enumerate(lambdas):\n",
    "        # ridge regression\n",
    "        for k in range(4):\n",
    "            [a,b] = cross_validation(y,x,k_indices,k,lambda_,degree)\n",
    "            rmse_tr.append(a)\n",
    "            rmse_te.append(b)\n",
    "    rmse_tr = np.asarray(rmse_tr).reshape(-1,4)\n",
    "    rmse_te = np.asarray(rmse_te).reshape(-1,4)\n",
    "    rmse_tr = np.mean(rmse_tr,axis=1)\n",
    "    rmse_te = np.mean(rmse_te,axis=1)\n",
    "    # cross validation: TODO\n",
    "    # ***************************************************   \n",
    "    cross_validation_visualization(lambdas,rmse_tr,rmse_te)\n",
    "cross_validation_demo()"
   ]
  },
  {
   "cell_type": "code",
   "execution_count": null,
   "metadata": {
    "collapsed": true
   },
   "outputs": [],
   "source": []
  },
  {
   "cell_type": "code",
   "execution_count": null,
   "metadata": {
    "collapsed": true
   },
   "outputs": [],
   "source": []
  }
 ],
 "metadata": {
  "kernelspec": {
   "display_name": "Python 3",
   "language": "python",
   "name": "python3"
  },
  "language_info": {
   "codemirror_mode": {
    "name": "ipython",
    "version": 3
   },
   "file_extension": ".py",
   "mimetype": "text/x-python",
   "name": "python",
   "nbconvert_exporter": "python",
   "pygments_lexer": "ipython3",
   "version": "3.6.4"
  }
 },
 "nbformat": 4,
 "nbformat_minor": 2
}
