{
 "cells": [
  {
   "cell_type": "markdown",
   "metadata": {},
   "source": [
    "### MACHINE LEARNING PROJECT I\n",
    "\n",
    "#### TEAM MEMBERS: ASLI YORUSUN - ERDEM BOCUGOZ - SERIF SONER SERBEST"
   ]
  },
  {
   "cell_type": "code",
   "execution_count": 2,
   "metadata": {},
   "outputs": [
    {
     "name": "stdout",
     "output_type": "stream",
     "text": [
      "The autoreload extension is already loaded. To reload it, use:\n",
      "  %reload_ext autoreload\n"
     ]
    }
   ],
   "source": [
    "# Useful starting lines\n",
    "%matplotlib inline\n",
    "import numpy as np\n",
    "import datetime\n",
    "import matplotlib.pyplot as plt\n",
    "\n",
    "from helpers import *\n",
    "from implementations import *\n",
    "from data import *\n",
    "\n",
    "%load_ext autoreload\n",
    "%autoreload 2"
   ]
  },
  {
   "cell_type": "markdown",
   "metadata": {},
   "source": [
    "### Importing Raw Data"
   ]
  },
  {
   "cell_type": "code",
   "execution_count": 3,
   "metadata": {},
   "outputs": [],
   "source": [
    "prediction,data,id_ = load_csv_data(\"train.csv\", sub_sample=False)"
   ]
  },
  {
   "cell_type": "code",
   "execution_count": 4,
   "metadata": {},
   "outputs": [
    {
     "data": {
      "text/plain": [
       "(250000, 30)"
      ]
     },
     "execution_count": 4,
     "metadata": {},
     "output_type": "execute_result"
    }
   ],
   "source": [
    "data.shape"
   ]
  },
  {
   "cell_type": "markdown",
   "metadata": {},
   "source": [
    "### Data Processing"
   ]
  },
  {
   "cell_type": "code",
   "execution_count": 5,
   "metadata": {},
   "outputs": [],
   "source": [
    "pred_0, pred_1, pred_2, data_0, data_1, data_2, indices_0, indices_1, indices_2 = categorize_data(prediction, data)"
   ]
  },
  {
   "cell_type": "code",
   "execution_count": 6,
   "metadata": {},
   "outputs": [],
   "source": [
    "x, mean_x, std_x = process_data(data)\n",
    "y, tx = build_model_data(prediction, x)\n",
    "\n",
    "x0, mean_x0, std_x0 = process_data(data_0)\n",
    "y0, tx0 = build_model_data(pred_0,x0)\n",
    "\n",
    "x1, mean_x1, std_x1 = process_data(data_1)\n",
    "y1, tx1 = build_model_data(pred_1,x1)\n",
    "\n",
    "x2, mean_x2, std_x2 = process_data(data_2)\n",
    "y2, tx2 = build_model_data(pred_2,x2)"
   ]
  },
  {
   "cell_type": "markdown",
   "metadata": {},
   "source": [
    "### Gradient Descent"
   ]
  },
  {
   "cell_type": "code",
   "execution_count": null,
   "metadata": {},
   "outputs": [],
   "source": [
    "# Define the parameters of the algorithm.\n",
    "max_iters = 500\n",
    "gamma = 0.1\n",
    "\n",
    "# Initialization\n",
    "initial_w = np.zeros(tx.shape[1])\n",
    "\n",
    "weights, loss = least_squares_GD(y, tx, initial_w, max_iters, gamma)"
   ]
  },
  {
   "cell_type": "markdown",
   "metadata": {},
   "source": [
    "### Stochastic Gradient Descent"
   ]
  },
  {
   "cell_type": "code",
   "execution_count": null,
   "metadata": {},
   "outputs": [],
   "source": [
    "# Define the parameters of the algorithm.\n",
    "max_iters = 500\n",
    "gamma = 0.1\n",
    "\n",
    "# Initialization\n",
    "initial_w = np.zeros(tx.shape[1])\n",
    "\n",
    "weights, loss = least_squares_GD(y, tx, initial_w, max_iters, gamma)"
   ]
  },
  {
   "cell_type": "markdown",
   "metadata": {},
   "source": [
    "### Least Squares"
   ]
  },
  {
   "cell_type": "code",
   "execution_count": null,
   "metadata": {
    "scrolled": false
   },
   "outputs": [],
   "source": [
    "weights, loss = least_squares(y, tx)"
   ]
  },
  {
   "cell_type": "markdown",
   "metadata": {},
   "source": [
    "### Ridge Regression"
   ]
  },
  {
   "cell_type": "code",
   "execution_count": null,
   "metadata": {},
   "outputs": [],
   "source": [
    "seed = 1\n",
    "degree = 10\n",
    "split_ratio = 0.9\n",
    "lambdas = np.logspace(-10, 0, 50)\n",
    "\n",
    "lambda_ = select_hyperparameter_for_ridge_regression(x, y, degree, split_ratio, seed, lambdas)"
   ]
  },
  {
   "cell_type": "markdown",
   "metadata": {},
   "source": [
    "### Cross Validation"
   ]
  },
  {
   "cell_type": "code",
   "execution_count": null,
   "metadata": {},
   "outputs": [],
   "source": [
    "seed = 32\n",
    "degree = 2\n",
    "k_fold = 5\n",
    "step = 3\n",
    "lambdas = np.logspace(-10, 0, step)\n",
    "\n",
    "# Cross Validation for Ridge Regression\n",
    "lambda_ = select_hyperparameter_with_cross_validation(y, x, seed, degree, k_fold, step, lambdas)\n",
    "weights, loss = ridge_regression(y, tx, lambda_)"
   ]
  },
  {
   "cell_type": "markdown",
   "metadata": {},
   "source": [
    "#### Cross Validation for Subsets"
   ]
  },
  {
   "cell_type": "code",
   "execution_count": 20,
   "metadata": {},
   "outputs": [
    {
     "name": "stdout",
     "output_type": "stream",
     "text": [
      "Selecting Hyperparameter By Using 5-fold Cross Validation...\n",
      "Hyperparameter Selection: Lambda = 0.014563484775012445\n",
      "Ridge Regression: RMSE Loss = 0.341864668286938\n"
     ]
    },
    {
     "data": {
      "image/png": "[encoded data removed]",
      "text/plain": [
       "<Figure size 432x288 with 1 Axes>"
      ]
     },
     "metadata": {},
     "output_type": "display_data"
    }
   ],
   "source": [
    "seed = 56\n",
    "degree = 4\n",
    "k_fold = 5\n",
    "step = 50\n",
    "lambdas = np.logspace(-10, 0, step)\n",
    "\n",
    "# Cross Validation for Ridge Regression\n",
    "lambda_0 = select_hyperparameter_with_cross_validation(y0, x0, seed, degree, k_fold, step, lambdas)\n",
    "\n",
    "poly_tx0 = build_poly(x0, degree)\n",
    "w0, loss0 = ridge_regression(y0, poly_tx0, lambda_0)"
   ]
  },
  {
   "cell_type": "code",
   "execution_count": 25,
   "metadata": {},
   "outputs": [
    {
     "name": "stdout",
     "output_type": "stream",
     "text": [
      "Selecting Hyperparameter By Using 5-fold Cross Validation...\n",
      "Hyperparameter Selection: Lambda = 6.551285568595495e-10\n",
      "Ridge Regression: RMSE Loss = 0.3907573818551179\n"
     ]
    },
    {
     "data": {
      "image/png": "[encoded data removed]",
      "text/plain": [
       "<Figure size 432x288 with 1 Axes>"
      ]
     },
     "metadata": {},
     "output_type": "display_data"
    }
   ],
   "source": [
    "seed = 56\n",
    "degree = 4\n",
    "k_fold = 5\n",
    "step = 50\n",
    "lambdas = np.logspace(-10, 0, step)\n",
    "\n",
    "# Cross Validation for Ridge Regression\n",
    "lambda_1 = select_hyperparameter_with_cross_validation(y1, x1, seed, degree, k_fold, step, lambdas)\n",
    "\n",
    "poly_tx1 = build_poly(x1, degree)\n",
    "w1, loss1 = ridge_regression(y1, poly_tx1, lambda_1)"
   ]
  },
  {
   "cell_type": "code",
   "execution_count": 22,
   "metadata": {},
   "outputs": [
    {
     "name": "stdout",
     "output_type": "stream",
     "text": [
      "Selecting Hyperparameter By Using 5-fold Cross Validation...\n",
      "Hyperparameter Selection: Lambda = 0.001389495494373139\n",
      "Ridge Regression: RMSE Loss = 0.3504859389506472\n"
     ]
    },
    {
     "data": {
      "image/png": "[encoded data removed]",
      "text/plain": [
       "<Figure size 432x288 with 1 Axes>"
      ]
     },
     "metadata": {},
     "output_type": "display_data"
    }
   ],
   "source": [
    "seed = 56\n",
    "degree = 9\n",
    "k_fold = 5\n",
    "step = 50\n",
    "lambdas = np.logspace(-10, 0, step)\n",
    "\n",
    "# Cross Validation for Ridge Regression\n",
    "lambda_2 = select_hyperparameter_with_cross_validation(y2, x2, seed, degree, k_fold, step, lambdas)\n",
    "\n",
    "poly_tx2 = build_poly(x2, degree)\n",
    "w2, loss2 = ridge_regression(y2, poly_tx2, lambda_2)"
   ]
  },
  {
   "cell_type": "code",
   "execution_count": 23,
   "metadata": {},
   "outputs": [
    {
     "data": {
      "text/plain": [
       "0.82776"
      ]
     },
     "execution_count": 23,
     "metadata": {},
     "output_type": "execute_result"
    }
   ],
   "source": [
    "### Test Rid Reg\n",
    "\n",
    "y_pred0 = predict_labels(w0,poly_tx0)\n",
    "y_pred1 = predict_labels(w1,poly_tx1)\n",
    "y_pred2 = predict_labels(w2,poly_tx2)\n",
    "\n",
    "y_pred0 = np.expand_dims(y_pred0, axis=1)\n",
    "y_pred1 = np.expand_dims(y_pred1, axis=1)\n",
    "y_pred2 = np.expand_dims(y_pred2, axis=1)\n",
    "\n",
    "\n",
    "rows = prediction.shape[0]\n",
    "labels = decategorize_prediction(rows, y_pred0, y_pred1, y_pred2, indices_0, indices_1, indices_2)\n",
    "\n",
    "labels = np.where(labels == -1, 0, labels)\n",
    "\n",
    "score = np.invert(np.logical_xor(prediction, np.squeeze(labels)))\n",
    "score.mean()"
   ]
  },
  {
   "cell_type": "markdown",
   "metadata": {},
   "source": [
    "### Logistic Regression"
   ]
  },
  {
   "cell_type": "code",
   "execution_count": null,
   "metadata": {},
   "outputs": [],
   "source": [
    "# init parameters\n",
    "max_iter = 100\n",
    "gamma = 0.1\n",
    "\n",
    "weights, loss = logistic_regression(y, tx, max_iter, gamma)"
   ]
  },
  {
   "cell_type": "markdown",
   "metadata": {},
   "source": [
    "#### Logistic Regression for Subsets"
   ]
  },
  {
   "cell_type": "code",
   "execution_count": null,
   "metadata": {},
   "outputs": [],
   "source": [
    "# init parameters\n",
    "max_iter = 100\n",
    "gamma = 0.1\n",
    "\n",
    "w0, loss0 = logistic_regression(y0, tx0, max_iter, gamma)"
   ]
  },
  {
   "cell_type": "code",
   "execution_count": null,
   "metadata": {},
   "outputs": [],
   "source": [
    "w1, loss1 = logistic_regression(y1, tx1, max_iter, gamma)"
   ]
  },
  {
   "cell_type": "code",
   "execution_count": null,
   "metadata": {},
   "outputs": [],
   "source": [
    "w2, loss2 = logistic_regression(y2, tx2, max_iter, gamma)"
   ]
  },
  {
   "cell_type": "markdown",
   "metadata": {},
   "source": [
    "#### Testing Logistic Regression Results"
   ]
  },
  {
   "cell_type": "code",
   "execution_count": 13,
   "metadata": {},
   "outputs": [
    {
     "ename": "ValueError",
     "evalue": "shapes (99913,19) and (226,) not aligned: 19 (dim 1) != 226 (dim 0)",
     "output_type": "error",
     "traceback": [
      "\u001b[1;31m---------------------------------------------------------------------------\u001b[0m",
      "\u001b[1;31mValueError\u001b[0m                                Traceback (most recent call last)",
      "\u001b[1;32m<ipython-input-13-33963c4c4ac2>\u001b[0m in \u001b[0;36m<module>\u001b[1;34m()\u001b[0m\n\u001b[0;32m      1\u001b[0m \u001b[1;31m### Test Log Reg\u001b[0m\u001b[1;33m\u001b[0m\u001b[1;33m\u001b[0m\u001b[0m\n\u001b[0;32m      2\u001b[0m \u001b[1;33m\u001b[0m\u001b[0m\n\u001b[1;32m----> 3\u001b[1;33m \u001b[0my_pred0\u001b[0m \u001b[1;33m=\u001b[0m \u001b[0mpredict_labels\u001b[0m\u001b[1;33m(\u001b[0m\u001b[0mw0\u001b[0m\u001b[1;33m,\u001b[0m\u001b[0mtx0\u001b[0m\u001b[1;33m)\u001b[0m\u001b[1;33m\u001b[0m\u001b[0m\n\u001b[0m\u001b[0;32m      4\u001b[0m \u001b[0my_pred1\u001b[0m \u001b[1;33m=\u001b[0m \u001b[0mpredict_labels\u001b[0m\u001b[1;33m(\u001b[0m\u001b[0mw1\u001b[0m\u001b[1;33m,\u001b[0m\u001b[0mtx1\u001b[0m\u001b[1;33m)\u001b[0m\u001b[1;33m\u001b[0m\u001b[0m\n\u001b[0;32m      5\u001b[0m \u001b[0my_pred2\u001b[0m \u001b[1;33m=\u001b[0m \u001b[0mpredict_labels\u001b[0m\u001b[1;33m(\u001b[0m\u001b[0mw2\u001b[0m\u001b[1;33m,\u001b[0m\u001b[0mtx2\u001b[0m\u001b[1;33m)\u001b[0m\u001b[1;33m\u001b[0m\u001b[0m\n",
      "\u001b[1;32m~\\Desktop\\FALL 2018-2019\\Machine Learning\\MLProject1\\helpers.py\u001b[0m in \u001b[0;36mpredict_labels\u001b[1;34m(weights, data)\u001b[0m\n\u001b[0;32m     28\u001b[0m \u001b[1;32mdef\u001b[0m \u001b[0mpredict_labels\u001b[0m\u001b[1;33m(\u001b[0m\u001b[0mweights\u001b[0m\u001b[1;33m,\u001b[0m \u001b[0mdata\u001b[0m\u001b[1;33m)\u001b[0m\u001b[1;33m:\u001b[0m\u001b[1;33m\u001b[0m\u001b[0m\n\u001b[0;32m     29\u001b[0m     \u001b[1;34m\"\"\"Generates class predictions given weights, and a test data matrix\"\"\"\u001b[0m\u001b[1;33m\u001b[0m\u001b[0m\n\u001b[1;32m---> 30\u001b[1;33m     \u001b[0my_pred\u001b[0m \u001b[1;33m=\u001b[0m \u001b[0mnp\u001b[0m\u001b[1;33m.\u001b[0m\u001b[0mdot\u001b[0m\u001b[1;33m(\u001b[0m\u001b[0mdata\u001b[0m\u001b[1;33m,\u001b[0m \u001b[0mweights\u001b[0m\u001b[1;33m)\u001b[0m\u001b[1;33m\u001b[0m\u001b[0m\n\u001b[0m\u001b[0;32m     31\u001b[0m     \u001b[0my_pred\u001b[0m\u001b[1;33m[\u001b[0m\u001b[0mnp\u001b[0m\u001b[1;33m.\u001b[0m\u001b[0mwhere\u001b[0m\u001b[1;33m(\u001b[0m\u001b[0my_pred\u001b[0m \u001b[1;33m<=\u001b[0m \u001b[1;36m0.5\u001b[0m\u001b[1;33m)\u001b[0m\u001b[1;33m]\u001b[0m \u001b[1;33m=\u001b[0m \u001b[1;33m-\u001b[0m\u001b[1;36m1\u001b[0m\u001b[1;33m\u001b[0m\u001b[0m\n\u001b[0;32m     32\u001b[0m     \u001b[0my_pred\u001b[0m\u001b[1;33m[\u001b[0m\u001b[0mnp\u001b[0m\u001b[1;33m.\u001b[0m\u001b[0mwhere\u001b[0m\u001b[1;33m(\u001b[0m\u001b[0my_pred\u001b[0m \u001b[1;33m>\u001b[0m \u001b[1;36m0.5\u001b[0m\u001b[1;33m)\u001b[0m\u001b[1;33m]\u001b[0m \u001b[1;33m=\u001b[0m \u001b[1;36m1\u001b[0m\u001b[1;33m\u001b[0m\u001b[0m\n",
      "\u001b[1;31mValueError\u001b[0m: shapes (99913,19) and (226,) not aligned: 19 (dim 1) != 226 (dim 0)"
     ]
    }
   ],
   "source": [
    "### Test Log Reg\n",
    "\n",
    "y_pred0 = predict_labels(w0,tx0)\n",
    "y_pred1 = predict_labels(w1,tx1)\n",
    "y_pred2 = predict_labels(w2,tx2)\n",
    "\n",
    "rows = prediction.shape[0]\n",
    "labels = decategorize_prediction(rows, y_pred0, y_pred1, y_pred2, indices_0, indices_1, indices_2)\n",
    "\n",
    "labels = np.where(labels == -1, 0, labels)\n",
    "\n",
    "score = np.invert(np.logical_xor(prediction, np.squeeze(labels)))\n",
    "score.mean()"
   ]
  },
  {
   "cell_type": "markdown",
   "metadata": {},
   "source": [
    "### Regularized Logistic Regression"
   ]
  },
  {
   "cell_type": "code",
   "execution_count": null,
   "metadata": {
    "scrolled": true
   },
   "outputs": [],
   "source": [
    "# Define the parameters of the algorithm.\n",
    "max_iter = 100\n",
    "gamma = 0.1\n",
    "\n",
    "weights, loss = reg_logistic_regression(y, tx, lambda_, max_iter, gamma)"
   ]
  },
  {
   "cell_type": "markdown",
   "metadata": {},
   "source": [
    "#### Regularized Logistic Regression for Subsets"
   ]
  },
  {
   "cell_type": "code",
   "execution_count": null,
   "metadata": {},
   "outputs": [],
   "source": [
    "# Define the parameters of the algorithm.\n",
    "max_iter = 100\n",
    "gamma = 0.1\n",
    "\n",
    "w0, loss0 = reg_logistic_regression(y0, tx0, lambda_,max_iter, gamma)"
   ]
  },
  {
   "cell_type": "code",
   "execution_count": null,
   "metadata": {},
   "outputs": [],
   "source": [
    "w1, loss1 = reg_logistic_regression(y1, tx1, lambda_,max_iter, gamma)"
   ]
  },
  {
   "cell_type": "code",
   "execution_count": null,
   "metadata": {},
   "outputs": [],
   "source": [
    "w2, loss2 = reg_logistic_regression(y2, tx2, lambda_,max_iter, gamma)"
   ]
  },
  {
   "cell_type": "markdown",
   "metadata": {
    "collapsed": true
   },
   "source": [
    "### Submission of Results"
   ]
  },
  {
   "cell_type": "code",
   "execution_count": null,
   "metadata": {},
   "outputs": [],
   "source": [
    "test_label,test_data,test_id_ = load_csv_data(\"test.csv\", sub_sample=False)\n",
    "\n",
    "# Split the data\n",
    "pred_0_test, pred_1_test, pred_2_test, data_0_test, data_1_test, data_2_test, indices_0_test, indices_1_test, indices_2_test = categorize_data(test_label, test_data)\n",
    "\n",
    "# Clean the data\n",
    "data_0_test = process_data(data_0_test)\n",
    "data_1_test = process_data(data_1_test)\n",
    "data_2_test = process_data(data_2_test)\n",
    "\n",
    "# Standardize the data\n",
    "x0_test, mean_x0_test, std_x0_test = standardize(data_0_test)\n",
    "y0_test, tx0_test = build_model_data(pred_0_test,x0_test)\n",
    "\n",
    "x1_test, mean_x1_test, std_x1_test = standardize(data_1_test)\n",
    "y1_test, tx1_test = build_model_data(pred_1_test,x1_test)\n",
    "\n",
    "x2_test, mean_x2_test, std_x2_test = standardize(data_2_test)\n",
    "y2_test, tx2_test = build_model_data(pred_2_test,x2_test)\n",
    "\n",
    "# Label predictions\n",
    "y_pred0 = predict_labels(w0,tx0_test)\n",
    "y_pred1 = predict_labels(w1,tx1_test)\n",
    "y_pred2 = predict_labels(w2,tx2_test)\n",
    "\n",
    "# Prepare for submission\n",
    "rows = test_label.shape[0]\n",
    "labels = decategorize_prediction(rows, y_pred0, y_pred1, y_pred2, indices_0_test, indices_1_test, indices_2_test)\n",
    "\n",
    "# Create submission file\n",
    "create_csv_submission(test_id_,labels,\"submission.csv\")"
   ]
  },
  {
   "cell_type": "code",
   "execution_count": null,
   "metadata": {},
   "outputs": [],
   "source": []
  }
 ],
 "metadata": {
  "kernelspec": {
   "display_name": "Python 3",
   "language": "python",
   "name": "python3"
  },
  "language_info": {
   "codemirror_mode": {
    "name": "ipython",
    "version": 3
   },
   "file_extension": ".py",
   "mimetype": "text/x-python",
   "name": "python",
   "nbconvert_exporter": "python",
   "pygments_lexer": "ipython3",
   "version": "3.6.5"
  }
 },
 "nbformat": 4,
 "nbformat_minor": 2
}
