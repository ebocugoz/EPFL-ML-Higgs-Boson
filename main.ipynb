{
 "cells": [
  {
   "cell_type": "markdown",
   "metadata": {},
   "source": [
    "### MACHINE LEARNING PROJECT I"
   ]
  },
  {
   "cell_type": "code",
<<<<<<< HEAD
   "execution_count": 163,
=======
   "execution_count": 11,
>>>>>>> 2506d0a86d492a6e8d8f1af28d86ceea87532240
   "metadata": {},
   "outputs": [
    {
     "name": "stdout",
     "output_type": "stream",
     "text": [
      "The autoreload extension is already loaded. To reload it, use:\n",
      "  %reload_ext autoreload\n"
     ]
    }
   ],
   "source": [
    "# Useful starting lines\n",
    "%matplotlib inline\n",
    "import numpy as np\n",
    "import datetime\n",
    "import matplotlib.pyplot as plt\n",
    "from proj1_helpers import *\n",
    "from implementations import *\n",
    "%load_ext autoreload\n",
    "%autoreload 2"
   ]
  },
  {
   "cell_type": "code",
<<<<<<< HEAD
   "execution_count": 171,
   "metadata": {
    "collapsed": true
   },
=======
   "execution_count": 8,
   "metadata": {},
>>>>>>> 2506d0a86d492a6e8d8f1af28d86ceea87532240
   "outputs": [],
   "source": [
    "prediction,data,id_ = load_csv_data(\"train.csv\", sub_sample=True)"
   ]
  },
  {
   "cell_type": "code",
<<<<<<< HEAD
   "execution_count": 172,
=======
   "execution_count": 9,
>>>>>>> 2506d0a86d492a6e8d8f1af28d86ceea87532240
   "metadata": {},
   "outputs": [],
   "source": [
    "x,mean_x,std_x = standardize(data)\n",
    "y,tx = build_model_data(prediction,x)\n"
   ]
  },
  {
   "cell_type": "code",
<<<<<<< HEAD
   "execution_count": 173,
=======
   "execution_count": 10,
>>>>>>> 2506d0a86d492a6e8d8f1af28d86ceea87532240
   "metadata": {},
   "outputs": [
    {
     "data": {
      "text/plain": [
<<<<<<< HEAD
       "(5000, 30, 2)"
      ]
     },
     "execution_count": 173,
=======
       "((5000,), (5000, 31))"
      ]
     },
     "execution_count": 10,
>>>>>>> 2506d0a86d492a6e8d8f1af28d86ceea87532240
     "metadata": {},
     "output_type": "execute_result"
    }
   ],
   "source": [
<<<<<<< HEAD
    "np.shape(tx)"
=======
    "y.shape, tx.shape"
   ]
  },
  {
   "cell_type": "markdown",
   "metadata": {},
   "source": [
    "### Gradient Descent"
>>>>>>> 2506d0a86d492a6e8d8f1af28d86ceea87532240
   ]
  },
  {
   "cell_type": "code",
<<<<<<< HEAD
   "execution_count": 209,
=======
   "execution_count": 12,
>>>>>>> 2506d0a86d492a6e8d8f1af28d86ceea87532240
   "metadata": {},
   "outputs": [
    {
     "name": "stdout",
     "output_type": "stream",
     "text": [
<<<<<<< HEAD
      "[[ 0.72275745  0.52216332  0.62884802 ...,  0.40121071  0.40337111\n",
      "   0.43546525]\n",
      " [ 0.39860205  0.65203482  0.40280964 ...,  0.40704726  0.51283083\n",
      "   0.75956982]\n",
      " [ 0.40606064  0.4060306  -1.9054728  ..., -1.9054728  -1.9054728\n",
      "   0.40280964]\n",
      " ..., \n",
      " [-1.9054728   0.5965829   0.60919874 ...,  0.4029113   0.40211415\n",
      "   0.41195265]\n",
      " [ 0.40383092  0.84250856  0.40512023 ...,  0.4041313   0.40710734\n",
      "   0.51921038]\n",
      " [ 0.4058342   0.39956556 -1.9054728  ..., -1.9054728  -1.9054728\n",
      "   0.52073537]]\n",
      "(30, 5000, 2)\n"
=======
      "Gradient Descent(0/4): loss=0.5\n",
      "Gradient Descent(1/4): loss=0.4830546532769335\n",
      "Gradient Descent(2/4): loss=0.46984227919614713\n",
      "Gradient Descent(3/4): loss=0.4595309472421537\n",
      "Gradient Descent(4/4): loss=0.45147423932391667\n",
      "Gradient Descent: execution time=0.004 seconds\n"
>>>>>>> 2506d0a86d492a6e8d8f1af28d86ceea87532240
     ]
    }
   ],
   "source": [
<<<<<<< HEAD
    "tx\n",
    "print(tx[:,:,1])\n",
    "print(tx.shape)\n",
    "\n",
    "w = np.ones((2,1))*2\n",
    "\n",
    "\n",
    "\n",
    "\n"
   ]
  },
  {
   "cell_type": "code",
   "execution_count": 183,
   "metadata": {},
   "outputs": [],
   "source": [
    "w1 = np.array([1,2])"
=======
    "# Define the parameters of the algorithm.\n",
    "max_iters = 5\n",
    "gamma = 0.005\n",
    "\n",
    "# Initialization\n",
    "w_initial = np.zeros(tx.shape[1])\n",
    "\n",
    "# Start gradient descent.\n",
    "start_time = datetime.datetime.now()\n",
    "gradient_losses, gradient_ws = gradient_descent(y, tx, w_initial, max_iters, gamma)\n",
    "end_time = datetime.datetime.now()\n",
    "\n",
    "# Print result\n",
    "exection_time = (end_time - start_time).total_seconds()\n",
    "print(\"Gradient Descent: execution time={t:.3f} seconds\".format(t=exection_time))"
   ]
  },
  {
   "cell_type": "markdown",
   "metadata": {},
   "source": [
    "### Stochastic Gradient Descent"
>>>>>>> 2506d0a86d492a6e8d8f1af28d86ceea87532240
   ]
  },
  {
   "cell_type": "code",
<<<<<<< HEAD
   "execution_count": 210,
   "metadata": {},
   "outputs": [
    {
     "data": {
      "text/plain": [
       "(30, 5000, 1)"
      ]
     },
     "execution_count": 210,
     "metadata": {},
     "output_type": "execute_result"
    }
   ],
   "source": [
    "tx.dot(w).shape"
   ]
  },
  {
   "cell_type": "code",
   "execution_count": 211,
   "metadata": {},
   "outputs": [
    {
     "data": {
      "text/plain": [
       "(30, 5000, 1)"
      ]
     },
     "execution_count": 211,
     "metadata": {},
     "output_type": "execute_result"
    }
   ],
   "source": [
    "np.matmul(tx,w).shape"
=======
   "execution_count": 13,
   "metadata": {},
   "outputs": [
    {
     "name": "stdout",
     "output_type": "stream",
     "text": [
      "SGD(0/4): loss=0.45271004105397533\n",
      "SGD(1/4): loss=0.43006844068795097\n",
      "SGD(2/4): loss=0.4239013290985155\n",
      "SGD(3/4): loss=0.42558788392022573\n",
      "SGD(4/4): loss=0.42435330011960193\n",
      "SGD: execution time=0.006 seconds\n"
     ]
    }
   ],
   "source": [
    "# Define the parameters of the algorithm.\n",
    "max_iters = 5\n",
    "gamma = 0.005\n",
    "batch_size = 1\n",
    "\n",
    "# Initialization\n",
    "w_initial = np.zeros(tx.shape[1])\n",
    "\n",
    "# Start SGD.\n",
    "start_time = datetime.datetime.now()\n",
    "sgd_losses, sgd_ws = stochastic_gradient_descent(\n",
    "    y, tx, w_initial, batch_size, max_iters, gamma)\n",
    "end_time = datetime.datetime.now()\n",
    "\n",
    "# Print result\n",
    "exection_time = (end_time - start_time).total_seconds()\n",
    "print(\"SGD: execution time={t:.3f} seconds\".format(t=exection_time))"
   ]
  },
  {
   "cell_type": "markdown",
   "metadata": {},
   "source": [
    "### Least Squares"
>>>>>>> 2506d0a86d492a6e8d8f1af28d86ceea87532240
   ]
  },
  {
   "cell_type": "code",
<<<<<<< HEAD
   "execution_count": 207,
   "metadata": {},
   "outputs": [],
   "source": [
    "erdem1 = np.array([[[1,2,3],[3,4,4],[13,14,14],[23,34,44]],[[5,6,6],[7,8,8],[17,18,18],[27,38,48]]])\n",
    "erdem2 = np.array([1,2])\n"
=======
   "execution_count": 14,
   "metadata": {},
   "outputs": [
    {
     "name": "stdout",
     "output_type": "stream",
     "text": [
      "Least Squares, rmse=0.8065396533937648\n"
     ]
    }
   ],
   "source": [
    "weights = least_squares(y, tx)\n",
    "# compute RMSE\n",
    "mse = compute_loss(y, tx, weights)\n",
    "rmse = np.sqrt(2 * mse)\n",
    "\n",
    "print(\"Least Squares, rmse={loss}\".format(loss=rmse)) "
>>>>>>> 2506d0a86d492a6e8d8f1af28d86ceea87532240
   ]
  },
  {
   "cell_type": "markdown",
   "metadata": {},
   "source": [
<<<<<<< HEAD
    "w"
=======
    "### Ridge Regression"
>>>>>>> 2506d0a86d492a6e8d8f1af28d86ceea87532240
   ]
  },
  {
   "cell_type": "code",
<<<<<<< HEAD
   "execution_count": 208,
   "metadata": {},
   "outputs": [
    {
     "ename": "ValueError",
     "evalue": "shapes (2,4,3) and (2,) not aligned: 3 (dim 2) != 2 (dim 0)",
     "output_type": "error",
     "traceback": [
      "\u001b[0;31m---------------------------------------------------------------------------\u001b[0m",
      "\u001b[0;31mValueError\u001b[0m                                Traceback (most recent call last)",
      "\u001b[0;32m<ipython-input-208-234f2aaad65f>\u001b[0m in \u001b[0;36m<module>\u001b[0;34m()\u001b[0m\n\u001b[0;32m----> 1\u001b[0;31m \u001b[0mnp\u001b[0m\u001b[0;34m.\u001b[0m\u001b[0mmatmul\u001b[0m\u001b[0;34m(\u001b[0m\u001b[0merdem1\u001b[0m\u001b[0;34m,\u001b[0m\u001b[0merdem2\u001b[0m\u001b[0;34m)\u001b[0m\u001b[0;34m.\u001b[0m\u001b[0mshape\u001b[0m\u001b[0;34m\u001b[0m\u001b[0m\n\u001b[0m",
      "\u001b[0;31mValueError\u001b[0m: shapes (2,4,3) and (2,) not aligned: 3 (dim 2) != 2 (dim 0)"
     ]
    }
   ],
   "source": [
    "np.matmul(erdem1,erdem2).shape"
   ]
  },
  {
   "cell_type": "code",
   "execution_count": 204,
   "metadata": {},
   "outputs": [
    {
     "data": {
      "text/plain": [
       "array([[[ 1,  2,  3],\n",
       "        [ 3,  4,  4]],\n",
       "\n",
       "       [[13, 14, 14],\n",
       "        [23, 34, 44]],\n",
       "\n",
       "       [[ 5,  6,  6],\n",
       "        [ 7,  8,  8]],\n",
       "\n",
       "       [[17, 18, 18],\n",
       "        [27, 38, 48]]])"
      ]
     },
     "execution_count": 204,
     "metadata": {},
     "output_type": "execute_result"
    }
   ],
   "source": [
    "w.reshape(4,2,3)"
=======
   "execution_count": 15,
   "metadata": {},
   "outputs": [
    {
     "name": "stdout",
     "output_type": "stream",
     "text": [
      "proportion=0.9, degree=7, lambda=0.000, Training RMSE=0.745, Testing RMSE=0.904\n",
      "proportion=0.9, degree=7, lambda=0.000, Training RMSE=0.746, Testing RMSE=0.891\n",
      "proportion=0.9, degree=7, lambda=0.000, Training RMSE=0.747, Testing RMSE=0.859\n",
      "proportion=0.9, degree=7, lambda=0.000, Training RMSE=0.748, Testing RMSE=0.829\n",
      "proportion=0.9, degree=7, lambda=0.000, Training RMSE=0.749, Testing RMSE=0.814\n",
      "proportion=0.9, degree=7, lambda=0.001, Training RMSE=0.750, Testing RMSE=0.812\n",
      "proportion=0.9, degree=7, lambda=0.001, Training RMSE=0.751, Testing RMSE=0.820\n",
      "proportion=0.9, degree=7, lambda=0.003, Training RMSE=0.753, Testing RMSE=0.829\n",
      "proportion=0.9, degree=7, lambda=0.007, Training RMSE=0.756, Testing RMSE=0.826\n",
      "proportion=0.9, degree=7, lambda=0.016, Training RMSE=0.759, Testing RMSE=0.808\n",
      "proportion=0.9, degree=7, lambda=0.037, Training RMSE=0.764, Testing RMSE=0.793\n",
      "proportion=0.9, degree=7, lambda=0.085, Training RMSE=0.771, Testing RMSE=0.806\n",
      "proportion=0.9, degree=7, lambda=0.193, Training RMSE=0.778, Testing RMSE=0.838\n",
      "proportion=0.9, degree=7, lambda=0.439, Training RMSE=0.783, Testing RMSE=0.858\n",
      "proportion=0.9, degree=7, lambda=1.000, Training RMSE=0.788, Testing RMSE=0.854\n"
     ]
    },
    {
     "data": {
      "image/png": "iVBORw0KGgoAAAANSUhEUgAAAYsAAAEaCAYAAADg2nttAAAABHNCSVQICAgIfAhkiAAAAAlwSFlzAAALEgAACxIB0t1+/AAAADl0RVh0U29mdHdhcmUAbWF0cGxvdGxpYiB2ZXJzaW9uIDIuMi4yLCBodHRwOi8vbWF0cGxvdGxpYi5vcmcvhp/UCwAAIABJREFUeJzt3XecVOX1+PHP2aXsgjQFkQ6KqBSliRoVxQrYMSoo+YkNMYLgV42YGEVs0cRYUYNYolERC6gRoyDYsVBFBAQRZQURRBSkLnt+f5w7Mjvs7szC3J2y5/16zWvn9nNndubMfZ7nPo+oKs4551xZclIdgHPOufTnycI551xcniycc87F5cnCOedcXJ4snHPOxeXJwjnnXFyeLNKUiDwsIn8tY7mKSOuKjCldxXutdmG/IiKPi8hPIvJJsvdfzliOFpGCVMYQS0Sai8h6EclNYN1yxS8ib4vIxbsWoUumKqkOoLISkaVAQ2AbsB74HzBYVdcDqOqg1EWXWUJ8rY4AjgeaquqvIR0jY6nqt8BuqY4jlURkHtAialYe8LqqnpKikELjVxapdYqq7gZ0BDoB16U4nmKCX9ZJ+x9J9v4qQAtg6c4kChHxH2JpKNnvi6q2U9Xdgs9xLeBb4PlkHiNdZNIHN2up6vfAG1jSAEBEnhCRW6KmrxGRFSKyXEQujN5eRPYQkVdF5BcR+VREbhGR96OW7y8ik0RkjYgsFJGzS4sluPy/VUQ+ADYAe4tIHRF5NDj+d8H+c4P1c0XkLhFZLSJfi8jgoIisyk7ur7WIvCMiPwf7fC6YLyJyt4j8ECz7TETal/JaXSIii4PzfUVEGkctUxEZJCKLguKlUSIiJbwOFwFjgMOCopabEtz35SKyCFhUwj5bBusMDN7HFSJyVdTy6iJyT7BsefC8egn7uUZEXoyZd7+I3BP1mt8sIh+IyDoReVNE6kete6qIzBORtcG6B0QtWxrs/zMR+TV4nxqKyOvBviaLSL2Y84m81xeIyPxgvSUicukO/2ClEJHjRWRB8N4+AEjM8guDff8kIm+ISIuoZScE/9c/i8iDwf/PxcGyAcHrcLeIrAFGJLC/hD8vMboDewIvxlsxI6mqP1LwAJYCxwXPmwJzgXujlj8B3BI87wmsBNoDNYFnAAVaB8vHBo8aQFtgGfB+sKxmMH0BVuzYGVgNtCslrrexX0ftgvWrAhOAfwX72hP4BLg0WH8Q8EVwDvWAyUFsVXZyf88Cf8F+yOQBRwTzTwRmAHWxL5IDgEYlvFbHBOfXGagO3A+8G3V+Cvw32E9zYBXQs5TXYkDkdSzHvicBuwP5JeyvZbDOs8G5dwiOH/k/GAl8FLwmDYAPgZuDZUcDBcHzRsCvQN1gugrwA9Al6jX/CmgD5AfTfwuWtQm2PT54L/4ELAaqRf1ffoQVkTYJ9jsTu/KtDkwBbow5n8h7fRKwT/D+HIX9OOgcG38Jr0t94Bfg90FMVwKFwMXB8tODGA8IzvV64MOYbfsEy4YCW6O2HRDsa0iwPD/O/sr1eYk5j8eAJ1L93RLad1aqA6isj+BDuR5YF3zg3op8+IPlT7D9C/CxyIc9mG4TbNMayA0+HPtFLb+F7cniHOC9mGP/K/KBLyGut4GRUdMNgc1EffkB/YCpwfMpBF/0wfRx7JgsyrO/J4HRWD1BdFzHAF8ChwI5McuiX6tHgTujlu0WvD4tg2klSEDB9DhgeCmvxQCKJ4tE9n1MGe95y2Cd/aPm3Qk8Gjz/CugdtexErBgMYr5sgdeBS4LnJwNfxLyH10dN/xH4X/D8r8C4qGU5wHfA0VH/l+dFLX8ReChqeggwIeZ8qpRyvhOAoSXFH7Pe/wM+ipoWoIDtX/ivAxfFxLwBKyb8f8C0mG2XUTxZfBtzvLL2V67PS9Q6NbCkdXR5vgcy6eHFUKl1uqrWwj5I+2O/kkrSGPsARHwT9bwB9gsoenn08xbAIUGRw1oRWQucB+xVRlyx21cFVkRt/y/s129JsUU/35n9/Qn7wH8SFJVcCKCqU4AHgFHAShEZLSK1SzhWY6JeH7UGAz9iv5Ijvo96voHEK2kT2XdJ5x8r9r2MFGUV23/Mslj/BvoHz/sDT8UsL+0cY8+hKIgn+hxWRj3fWMJ0ia+XiPQSkY+C4pu1QG9K/5+OVux/SO3bN/Z/5t6o/5c12P9Ik1K2jW11FfuelLW/nfm8gF3ZrAHeSeB8M5InizSgqu9gv47/UcoqK4BmUdPNo56vwi6zm0bNi153GfCOqtaNeuymqpeVFVLM9puB+lHb11bVdlGxlXbscu9PVb9X1UtUtTFwKfCgBE2EVfU+Ve2CFWm1Aa4p4VjLiWqdIiI1gT2wX8+7KpF9J9KNc+x7ubyk/ccsizUBODCotzkZeDqB4+5wjKC+phm7+PoEdSsvYv/DDVW1LjCRmLqHUhT7/46KKWIZdvUa/T+cr6ofEvP/F2wb/f8IO74nZe1vZz4vAOcDTwbJKit5skgf9wDHi0jHEpaNAwaISFsRqQHcGFmgqtuAl4ARIlJDRPbHLs0j/gu0EZE/iEjV4HFwdKVmWVR1BfAmcJeI1BaRHBHZR0SOioptqIg0EZG6wLW7sj8ROUtEIh/2n7AP+rYg5kNEpCpW5r4Ja3Yc6xngAhHpGHyB3QZ8rKpLEznfOJK1778G71U7rGz8uWD+s8D1ItIgqJC+AfhPSTtQ1U3AC0FMn6g1Y03EOOAkETk2eC2vwpL3h+U8h1jVsDqNVUChiPQCTkhw29eAdiLSJ6gsv4Liv+QfBq4LXi/EGkicFbVtBxE5Pdj2cuJfBZS1v3J/XoL/1x7Y1V7W8mSRJlR1FVZev8PNZar6OpZMpmAVc1NiVhkM1MGKHp7CvnQ2B9uuwz60fbFfld8Dd2Af7ET9P+zL4AvsC/wFrJIV4BHsy/8zYBb2a7KQkr/IE9nfwcDHIrIeeAUr8/4aqB0c6yesGOVHSrgSU9W3sNfwRexX5z7Bue+yJO77Hex9fAv4h6q+Gcy/BZiOvZZzsYrlW0rcg/k3VkkeWwRVKlVdiBVb3Y9V3J6CNeHeUs5ziN3vOuxLfhz2Hp2LvX+JbLsaOAv4G/a+7gt8ELV8PPY/O1ZEfgE+B3rFbHtnsG1b7DXcXMbxytrfznxe/oDVm3yVyPlmKsniq6ZKS0TuAPZS1fNTcOxewMOq2iLuypWMiLQEvgaqqmphEvbXHFiAvde/7Or+soHYfTwFWCX91FTHk038yiILBO3CDxTTDbgIGF9Bx84Xkd4iUkVEmmBFZBVy7Mos+FL8P2BsZU8UInKiiNQNigb/jNWTfJTisLKO32WaHWphRU+NsXbxdwEvV9CxBbgJK3ffiJUh31BBx66Ugor1lVhxXM8Uh5MODsPqbiJFm6er6sbUhpR9vBjKOedcXF4M5ZxzLi5PFs455+LKmjqL+vXra8uWLVMdhnPOZZQZM2asVtUG8dbLmmTRsmVLpk+fnuownHMuo4jIN/HX8mIo55xzCfBk4ZxzLi5PFs455+LyZOGccy4uTxYAK1bAUUfB99/HX9c55yohTxYAN98M778PI0emOhLnnEtLlTtZ5OeDCDz0EBQV2V8Rm++cc+43lTtZLFkCJ520fTovD847D77+OnUxOedS4scff6Rjx4507NiRvfbaiyZNmvw2vWVLYsN9XHDBBSxcuDDkSFMja27K2ymNGkGzZnY1oQqbNkFBATRsmOrInHMJWLEC+vaF556DveKNjxfHHnvswezZswEYMWIEu+22G1dffXWxdVQVVSUnp+Tf2Y8//viuBVGCwsJCqlSpUup0aeLFWl6hXlmISE8RWSgii0VkeAnLW4jIWyLymYi8HTWcJiJyvogsCh7hDeKzciVcdhm89RY0aQLvvGNXF79U6iECnMsIFVHduHjxYtq3b8+gQYPo3LkzK1asYODAgXTt2pV27doxMurgRxxxBLNnz6awsJC6desyfPhwDjroIA477DB++OGHHfa9fv16BgwYQLdu3ejUqROvvvoqAGPGjKFv376cfPLJ9OrVi8mTJ3PcccfRt29fOnXqBMCdd95J+/btad++Pffff3+psSZNJPsk+wHkAl8Be2P9zM8B2sas8zxwfvD8GOCp4PnuwJLgb73geb2yjtelSxfdZdu2qd56q2pOjmrr1qozZuz6Pp1z5TZ0qOpRR5X+yMlRteKA4o+cnNK3GTo08ePfeOON+ve//11VVRctWqQiop988slvy3/88UdVVd26daseccQROm/ePFVVPfzww3XWrFm6detWBXTixImqqnrllVfq7bffvsNxrrnmGn322WdVVXXNmjW677776saNG/WRRx7R5s2b65o1a1RVddKkSVqzZk395ptvVFX1448/1gMPPFB//fVX/eWXX3T//ffXOXPmlBhrPMB0TeA7Pcwri27AYlVdoja+71jgtJh12mLjEANMjVp+IjBJVdeo6k/AJCpikJecHPjzn+Htt2HjRjjsMHjgAfs/dM6ljW7dYM897SML9nfPPeGQQ8I53j777MPBBx/82/Szzz5L586d6dy5M/Pnz+eLL77YYZv8/Hx69eoFQJcuXVi6dOkO67z55pvceuutdOzYkR49erBp0ya+/fZbAE444QTq1av327qHHXYYzZs3B+C9997jzDPPpEaNGtSqVYvTTz+d999/v8RYkyXMOosmwLKo6QIg9q2cA5wJ3AucAdQSkT1K2bZJeKHGOPJImD0bBgyAIUNgyhR49FGIeuOcc+G5557461x2GYwebe1StmyBM8+EBx8MJ56aNWv+9nzRokXce++9fPLJJ9StW5f+/fuzadOmHbapVq3ab89zc3MpLNxx2HVVZcKECeyzzz7F5r/77rvFjhkbg5bxAzZ2u2QJ88pCSpgXe4ZXA0eJyCzgKOA7oDDBbRGRgSIyXUSmr1q1alfjLa5+fXj1VbjrLvvbqRN85MP6OpcuVq6EQYPsYzloUMXdU/vLL79Qq1YtateuzYoVK3jjjTd2el8nnngi991332/Ts2bNSmi77t27M378eDZu3Mj69et5+eWXOfLII3c6jkSEeWVRADSLmm4KLI9eQVWXA30ARGQ34ExV/VlECoCjY7Z9O/YAqjoaGA3QtWvX5JcVicD//R8ccYQ1uTjySLjtNrjqqu3Xv865lHjppe3PR42quON27tyZtm3b0r59e/bee28OP/zwnd7XjTfeyLBhw+jQoQNFRUW0bt2al19+Oe523bp1o1+/fr8VN1122WV06NCBxYsX73Qs8YQ2BreIVAG+BI7Frhg+Bc5V1XlR69QH1qhqkYjcCmxT1RtEZHdgBtA5WHUm0EVV15R2vK5du2qo41msXQuXXAIvvAC9esG//w0N4o4X4pxzaU1EZqhq13jrhfbzWFULgcHAG8B8YJyqzhORkSJyarDa0cBCEfkSaAjcGmy7BrgZSzCfAiPLShQVom5dGDfOCkWnTIGOHa2ZrXPOVQKhXVlUtNCvLKLNng3nnAOLF8ONN8Jf/gK5uRVzbOecS6KUX1lktY4dYfp06NfPksXxx9utpM45l6U8WeysWrXgqafgscfg44/hoIPgzTdTHZVzzoXCk8WuEIELLoBPP7X+pE480W7qK6E9tXPOZTJPFsnQtq1dXVxyCdx+Oxx9tBVT+YBKzrks4ckiWWrUsNtJn3kG5syxezPee88HVHIuQySji3KAxx57jO+z8EeiJ4tku/BCWL8eNm+2PqV8QCXnwpPEIZEjXZTPnj2bQYMGceWVV/42Hd11Rzy7mixiuwUpqZuQRLZLtso9nkUYliyBq6+G8eOtM8KcHLv7+667Uh2Zc9knuo/ysDqGAv79738zatQotmzZwu9+9zseeOABioqKuOCCC5g9ezaqysCBA2nYsCGzZ8/mnHPOIT8/n08++aRYolm0aBGDBw9m9erV1KxZkzFjxtCmTRv69+9Pw4YNmTlzJgcffDDVqlVj1apVLFmyhL322ovRo0czaNAgZs6cSdWqVbnnnnvo3r07Y8aMYfLkyaxfv57NmzczadKk0F4DTxbJ1qgR1K5tVxZVq8LWrfDTT7s+MotzlcmwYXY/U2nee8+GQo546CF75ORYtzwl6dgxsR4KY3z++eeMHz+eDz/8kCpVqjBw4EDGjh3LPvvsw+rVq5k7dy4Aa9eupW7dutx///088MADdOzYcYd9DRw4kDFjxrDPPvvwwQcfMHjwYN4MWlF+9dVXvPXWW+Tk5HD99dcza9Ys3n33XfLy8rjjjjuoVq0ac+fOZd68efTu3ZtFixYBMG3aNGbPnl2sh9oweLIIQ6SHswsvhGOPtV8+hYWQwOhWzrkEdOtmV/GrV1vSyMmxzj9jem9NhsmTJ/Ppp5/Stavdt7Zx40aaNWvGiSeeyMKFCxk6dCi9e/fmhBNOKHM/a9eu5aOPPuLMM8/8bV500dFZZ51VbFS70047jby8PADef/99rrnmGgDatWtH48aNf+sHKrYr87D4t1cYons4e+wx6zv5yScteTjn4kujPspVlQsvvJCbb755h2WfffYZr7/+Ovfddx8vvvgio0ePLnM/9evX/23o1ljp1iV5LK/gDtsZZ8Chh8INN8CGDamOxrnsUUF9lB933HGMGzeO1atXA9Zq6ttvv2XVqlWoKmeddRY33XQTM2fOBKBWrVqsW7duh/3Uq1ePRo0aMX78eACKioqYM2dOQjF0796dp59+GoD58+ezYsUKWrdunYzTS5hfWYRNBO64w1ps3H8/XHttqiNyLjtUUB/lHTp04MYbb+S4446jqKiIqlWr8vDDD5Obm8tFF12EqiIi3HHHHQBccMEFXHzxxSVWcI8dO5bLLruMESNGsGXLFvr3789BBx0UN4YhQ4Zw6aWX0qFDB6pWrcqTTz5ZrhZayeAdCVaUU06xSrklS2D33VMdjXPOAd6RYPq5/XZYt84GT3LOuQzjyaKitG8P559vRVHffJPqaJxzrlw8WVSkm26yJn433JDqSJxzrlxCTRYi0lNEForIYhEZXsLy5iIyVURmichnItI7mF9VRP4tInNFZL6IXBdmnBWmWTO44grr2vyzz1IdjXPOJSy0ZCEiucAooBfQFugnIm1jVrseG261E9AXiDSSPguorqodgC7ApSLSMqxYK9Tw4VCnDlyXHfnPOVc5hHll0Q1YrKpLVHULMBY4LWYdBWoHz+sAy6Pm1xSRKkA+sAX4JcRYK069ejbmxcSJ8PbbqY7GOecSEmayaAIsi5ouCOZFGwH0F5ECYCIwJJj/AvArsAL4FviHqq6JPYCIDBSR6SIyfdWqVUkOP0RDhliR1J/+ZD3TOudcmgszWUgJ82K/GfsBT6hqU6A38JSI5GBXJduAxkAr4CoR2XuHnamOVtWuqtq1QYMGyY0+THl51kvmp5/CCy+kOhrnnIsrzGRRADSLmm7K9mKmiIuAcQCqOg3IA+oD5wL/U9WtqvoD8AEQ96aRjPKHP1hz2j//2Xqmdc65NBZmsvgU2FdEWolINawC+5WYdb4FjgUQkQOwZLEqmH+MmJrAocCCEGOteLm58Le/weLFMGZMqqNxzrkyhZYsVLUQGAy8AczHWj3NE5GRInJqsNpVwCUiMgd4Fhig1v/IKGA34HMs6TyuqtnX1rR3b+je3e6/WL8+1dE451ypvG+oVPv4Y+uV9qab/GY951yF876hMsUhh1g//H//O/zwQ6qjcc65EnmySAe33WbjdZcwuIpzzqUDTxbpoE0buOQSePhh+OqrVEfjnHM78GSRLm64AapVg7/8JdWROOfcDjxZpItGjeCqq+C55yATK+qdc1nNk0U6ufpqqF/fhl7NklZqzrns4MkindSubcVRU6bAm2+mOhrnnPuNJ4t0c+ml0KqVXV0UFaU6GuecAzxZpJ9q1eDWW2HOHHjmmVRH45xzgCeL9HTOOdC5M1x/PWzenOponHPOk0VaysmBO+6Ab76BBx+Mv75zzoXMk0W6Ou44OOEEuOUW+PnnVEfjnKvkPFmks7/9DdasgTvvTHUkzrlKzpNFOuvUCc49F+6+G777LtXROOcqMU8W6e6WW6Cw0Lowd865FPFkke5atYI//hEefRTmz091NM65SirUZCEiPUVkoYgsFpHhJSxvLiJTRWSWiHwmIr2jlh0oItNEZJ6IzBWRvDBjTWt/+QvUrGnjdTvnXAqElixEJBcbHrUX0BboJyJtY1a7HhtutRM2RveDwbZVgP8Ag1S1HXA0sDWsWNNegwZ2R/eECfDhh6mOxjlXCYV5ZdENWKyqS1R1CzAWOC1mHQVqB8/rAMuD5ycAn6nqHABV/VFVt4UYa/obNsx6ph02DI46Cr7/PtUROecqkTCTRRNgWdR0QTAv2gigv4gUABOBIcH8NoCKyBsiMlNE/lTSAURkoIhMF5Hpq1atSm706aZmTRgxAj79FN57D0aOTHVEzrnyWLEio3/ohZkspIR5sf1u9wOeUNWmQG/gKRHJAaoARwDnBX/PEJFjd9iZ6mhV7aqqXRs0aJDc6NNNfr51MgjWfflDD4GIzXfOpb+bb4b338/YH3phJosCoFnUdFO2FzNFXASMA1DVaUAeUD/Y9h1VXa2qG7Crjs4hxpr+liyxey6qV7fpqlXhvPPg669TG5dzrmz5+fbD7qGHrCfpDP2hF2ay+BTYV0RaiUg1rAL7lZh1vgWOBRCRA7BksQp4AzhQRGoEld1HAV+EGGv6a9TIxrvYutX6jtq6FapUgb32SnVkzrmyLFkCJ51U8rLu3bc3Xknz4qnQkoWqFgKDsS/++Virp3kiMlJETg1Wuwq4RETmAM8CA9T8BPwTSzizgZmq+lpYsWaMlSth0CAYP95+mUydmuqInHPxFBXB22/b8+rV7bN7/PH2Wd6yxXpoOOMM+0HYqpWVINx3n9VPbtmS0tCjiWbJ8J1du3bV6ZVp7Oprr7U+o6ZNg0MPTXU0zrmS/PwzHHkkfPEF9Olj90yNHm2V3S+9ZOts2gSzZtln+aOP7G9BgS3Ly4MuXeCww+xx6KHQuHHxY6xYAX37wnPP7VRJg4jMUNWucdfzZJGh1q2D/faDJk3g44+taMo5lz42b4aePa1Se+JEu5pIVEHB9sQxbRrMmLH9KqN58+2J47DD4LHHYMwYawCzE0MaeLKoDJ5+Gvr3h0cegYsvTnU0zrmIoiLo1w/GjYP//Mcao+yKzZth9uziCeTbb0teNy8PNm5MeNeJJgv/OZrJzj0XjjgCrrsO1q5NdTTOuYirr7ZEceedu54owOo6DjkEhg6FsWNtYLSZM62Iq0oVW6dGjVBbSHqyyGQicP/9NubFjTemOhrnHMBdd1ml9dChljTC0qkTtGtnVzF5eVb3Ubt2aC0kPVlkuo4draxy1Cj4/PNUR+Nc5fbMM5YgzjoL/vlP+0EXpkgLyY8+sr8hNr/1Oots8OOP0KYNHHggTJkS/j+oc25Hb70FvXrB734H//uf/drPAF5nUZnssQfcequ15X7++VRH41zlM3u23Sux//52g12GJIry8GSRLS65xMowr7oKfv011dE4V3ksXWpXFHXrwuuv298s5MkiW+TmWmV3QQHcfnuqo3GucvjxR7uXYtMmSxRNYjvWzh6eLLLJ4Ydb07m//x2++irV0TiX3TZsgFNOsSuLV1+1lklZzJNFtrnzTqhWDa68MtWROJe9CgvtpruPPrIWUEcckeqIQufJIts0bgx//av90nn99VRH41z2UYXLL4dXXrGi3z59Uh1RhfBkkY2GDbOmtEOHWjcBzrnkuflm6wzwuussaVQSniyyUbVqcO+9sGgR3HNPqqNxLns8+qj1lnD++dZcvRLxZJGtevaEU0+1X0HffZfqaJzLfK+9Zr0lnHiidd5ZyW5+9WSRze6+2yri/vSnVEfiXGb7+GPrwqNjR3jhBRvWuJIJNVmISE8RWSgii0VkeAnLm4vIVBGZJSKfiUjvEpavF5EQe+PKYnvvDddcY6013nsv1dE4l5m+/BJOPtkaj7z2Guy2W6ojSonQkoWI5AKjgF5AW6CfiLSNWe16bLjVTtgY3bEjd9wNeJOeXXHdddCsGQwZAtu2pToa5zLL999bka6I9ffUsGGqI0qZMK8sugGLVXWJqm4BxgKnxayjQO3geR1geWSBiJwOLAHmhRhj9qtRw7pMnjPHWnA45+JbscLunTjhBOvZ9bXXoHXrVEeVUmEmiybAsqjpgmBetBFAfxEpACYCQwBEpCZwLXBTWQcQkYEiMl1Epq9atSpZcWef3/8eevSA66+37gmcc2UbMQI++ADmzrU6ioMPTnVEKRdmsiipqUBsf+j9gCdUtSnQG3hKRHKwJHG3qq4v6wCqOlpVu6pq1wYNGiQl6KwUGSTp558tYTjnSpafb5+X6Kvw3r1tfiUXZrIoAJpFTTclqpgpcBEwDkBVpwF5QH3gEOBOEVkKDAP+LCKDQ4w1+7VrB4MHw7/+BbNmpToa59LTkiU2HkVEyEOVZpIwk8WnwL4i0kpEqmEV2K/ErPMtcCyAiByAJYtVqnqkqrZU1ZbAPcBtqvpAiLFWDiNGQP36VtmdJYNeOZdUe+xhRU9QIUOVZpLQkoWqFgKDgTeA+Virp3kiMlJETg1Wuwq4RETmAM8CAzRbhu5LR3XrWvflH3wATz+d6micSz//+hesW2dNZStgqNJM4sOqVjZFRXDooTbuxcKFUKtWqiNyLj2sWwf77APt29sQqZXkDm0fVtWVLCfHKrtXrLCuQJxz5q67YNUquOOOSpMoysOTRWV0yCFwwQXWyeDChamOxrnUW7kS/vEP69LDm8mWqMxkISLHRD1vFbOscnTinq1uv92aAw4d6pXdzt18s1VmV7KeZMsj3pXFP6KevxizzBvsZ7KGDeGmm+CNN2wQF+cqq8WLrWJ74EDYd99UR5O24iULKeV5SdMu01x+ObRta0OwbtyY6micS43rr7cxYG64IdWRpLV4yUJLeV7StMs0VataZffXX9uALkcd5c0Ew7Bihb+26WrGDHjuOfi///N7KeKIlyz2FpFXROTVqOeR6VZxtnWZ4JhjrO+of/7TujEfOTLVEWWfv/4V3n/fX9t0NHy43Yh3zTWpjiTtlXk7xUNZAAAgAElEQVSfhYgcVdbGqvpO0iPaSX6fxU7Kz7eKvVh5eV40tavy8koeA71KFZg0yQbSqVu34uNyZtIk61X2nnusoUclleh9FlXKWhibDESkKtAe+E5Vf9i1EF1aWLIErr7aetbcssXal59yilX4uZ3zyy92pValiiWL3FwbSyQ318rGN260XoDBBqjq3Bk6dbK/nTvDnnumNv7KoKgIrr0WWra0u7RdXGUmCxF5GLg/6KajDjAN2AbsLiJXq+qzFRGkC1GjRtb3TWGhfZFt2WItpL7+2stwy2vDBnjgAbupa80a6NPHEsYLL9hVxpYtMGCA9dE1axbMnGmPWbNsnYgmTYonj06dbACr2BvFVqyAvn2tzN3fq/J57jl73f/zH6hePdXRZIR4xVDzVLVd8HwYcLSqni4iewGvByPcpQUvhtoFffpY0hg4EO68EyZMsF9eTz9ty1zZNm+GRx6xNvqRkdVuuQW6dCn+2o4ebV/wL7204z7WroXZs7cnj5kzYcECex/AytWjk0fnznb1Mno0XHopPBg7yKQr1ZYtsP/+9iNp5kzr1aASS7QYClUt9QHMinr+GtbR3w7L0uHRpUsXdUnyww+qhx6qKqJ6992pjiZ9bd2q+uijqs2bq4Jq9+6q776bvP2vX6/64Yeqo0apXnSRaqdOqlWr2rFKeuTlJe/Y2ey+++z1ev31VEeSFoDpmsB3bLxkMRU4GegErAX2CuZXARYkcoCKeniySLING1TPOMP+RYYOVS0sTHVE6WPbNtVnn1Vt08Zen65dVd94Q7WoKPxjb95sxzrkENWcHDt+tWqq552numJF+MfPdL/8otqggWqPHhXzfmWARJNFvOuvS7Fuxh8HhqlqpKH4scGVhstW+fnw/PMwbBjce6/1mbNhQ6qjSi1Vu9u9Uyfo18/qeMaPh08+sVY1FdH5XLVqdqxOQQmwiBWrrFnj9RaJ8M4Cd1qZyUJVv1TVnqraUVWfiJr/hqpeFXp0LrVyc+Huu61p4YQJdk9GZRzrXBUmT4bDDoPTTrOk+fTTVsdw+ump+dJZudJa8bz7LjRoAP/7H0ycWPFxZBLvLHCXxGsNdV9Zy1X1iuSG49LS0KHQvDmce659YU6cCG3apDqqivHhh/CXv8Dbb1uLpEcegfPPt7vfUym6knzhQjjuOKtMf+UVu/JwO/LOAndJvGKoQcAR2NjZ04EZMY8yiUhPEVkoIotFZHgJy5uLyFQRmSUin4lI72D+8SIyQ0TmBn+P2XHvrkKdcQZMnQo//2xjFH/4YaojSr7objlmzYKTToLDD4cvvrCiuC+/hIsvTn2iiFWvnt1gtv/+duXz1lupjij9RDoLvOQS7yxwZ5VVoQHsgSWMqcAk4GKgXiKVIUAu8BWwN1ANmAO0jVlnNHBZ8LwtsDR43gloHDyP3AToFdzpYNEi1X33Va1eXfX551MdTXJddpm1ANt7b6s4rldP9fbbrVVSJli1SrVDB9X8fNWpU1MdTXo55xzVGjVUly9PdSRph2RUcKvqj6r6sKr2AAYAdYF5IvKHBPJQN2Cxqi5R1S3AWOC02EMAtYPndbArGFR1lqouD+bPA/JExO+cSQetW9tVRZcucPbZ1tZfM7xPyfx8q3d46CE7lyVLbP6GDdZ3UM2aqY0vUfXrW91Kq1Y2hvT776c6ovQQ3Vlgo0apjiZjJXQ3ioh0BoYB/YHXSaAICmgCLIuaLgjmRRsB9BeRAmAiMKSE/ZyJ3dOxQyc7IjJQRKaLyPRVlbHiNVUiX0p9+sBVV8EVV1h3FplG1YpsDjmk+Pz8fDjvPFi6NCVh7ZI997RzatoUevWCadNSHVHqeWeBSRFvpLybRGQG8H/AO0BXVb1IVb9IYN8lNRGJ/QnaD3hCVZsCvYGnROS3mESkHXAH1oR3x52pjlbVrqratUGDBgmE5JImPx/GjbNk8cADcOaZmdO0trDQYj/4YKsYXrDAEkZOzvbO/2rXztymqHvtBVOm2K/oE0+0pr2V1aRJ9sPmr3+199TttHhXFn/FiocOAm4HZgYV0XNF5LM42xYAzaKmmxIUM0W5CBgHoKrTgDygPoCINAXGA/9PVb9K4FxcRcvJsaaI991nrXB69IAf0rh/yQ0brFuM/faDc86Bdeusu4ylS6FxY2uK+tFH9jfTx55o3NgSRoMG1jpqRiKFAVnGOwtMrrIqNIAWZT3ibFsFWIKNexGp4G4Xs87rBF2IAAdgyUSwupE5wJmJVLyoV3Cn3oQJVrHaqpXqggWpjqa41atVb7pJtX59q7g+9FDVl16qHHelf/ONasuWVlk/c2aqo6lYzzxj7/dTT6U6krRGMrr7KHUja+l0XgLr9Qa+xFpF/SWYNxI4Vbe3gPogSAyzgROC+dcDvwbzIo89yzqWJ4s08PHH1pXC7rurvvdeqqNR/fpr1SFDrBUMqJ58ssVV2bp5+Ppr1WbNVPfYQ3XOnFRHUzE2b7YfLgcdZN2zuFIlJVlgLZWuAx4ATgh+9Q8BvgFeTuQAFfXwZJEmvvrK+kyqXl31ueesqWL37hXbb9HMmar9+qnm5lrHewMGqH7+ecUdPx0tXqzapIldXVWG18I7C0xYoskiXhflLwM/YeNYHAvUC4qUhqrq7ARLuiqEd1GeRn780brBeP99OPRQq2ANuxttVSujv+MOq9SsVcuOOXSotQxysGiR3XRYVGR3pO+/f6ojCse6dbDPPtC+vbUM8z6gypRoF+XxksVcVe0QPM8FVgPNVXVd0iJNEk8Waaa04Vpzcuwu2iZNij8aN7Y7kRP5YEcP+lO/Prz4oo3DMXOmtQQaNswShQ9ZuqMFC+Doo+19ePvt7Oy2ZcQIuOkm+5HifUDFlZRhVYGtkSequk1Evk7HROHS0JIl1qz2xRetV9TcXGjY0L7AX3wRVq/ecZv8fEsa0QkkNqk0amR9/Lz/vnUI9913NqrffvvBmDHQv7+PfFaW/fe3K7Cjj7aOId95x36FZwvvLDA08ZLFQSLyS/BcgPxgWgBVVW+47ErWqBHUqWP3NESGFD3ttO1FUZs32xXCd98Vfyxfbn8/+cT+lnR1EhG5Q7lqVeu/qZKPeJawtm2teKZHD3u8847d9Z0NIp0F3nJLqiPJOmUmC1XNrahAXBaKdKMdPaRoRPXq1v69ZcvSt1eFn37ankDmzYMnnrDEsG2b7eP3v7dfkp4oyqdDB7tZ7ZhjtieMFi1SHdWuie4sMBuL11Is3pWFczsvuhvtUaPKv70I7L67Pdq3t7uRFy2ypBG5WsnkO61TrWNHawxw7LGWNCLdsGeq66+3waFuuCHVkWQl/znmMkvkaiVb7rROtS5d4M03rQ7pmGOskUCkm/ZM4p0Fhq7M1lCZxFtDObcLpk2zbkFyc+GXXywRh9nUOdmOP97GIFmyxPuAKqdEW0P5lYVzzq4q1q+3wa1Urbt2EWuhlu68s8AK4cnCOWe/yM89t3iz4xNOsGbJ6ey772wUx6ZNvbPAkHmycM5ZOX/t2rB16/aEMXly+g/ROmAA/PqrtX7y+2tC5cnCOWcijQc+/hguvNBaofXvb62MiopSHV1xkdENJ0+26SlTMqfYLEN5snDOmZdesibOBx0Ejz5qRTwXXQS33mp3RP/6a6ojNIWFcPnl9jzSPUyNGja6YboXm2UwTxbOuZJVqwaPPGLjrI8fD927WwJJpSVLLI677oJ997VkkZdnd237PTeh8mThnCudCFx5Jbz6Knz5pfW3lIom6qrw73/bVc8XX8Azz9iNmn7PTYXx+yycc4mZOxdOOcXqNp580oqmKsKaNZYMnn/eriqefDLzuyZJI2lxn4WI9BSRhSKyWESGl7C8uYhMFZFZwdjevaOWXRdst1BETgwzTudcAjp0sA4eO3eGs8+2TvvC/rE5dSoceKAVg912m1Vke6JIidCSRTD+xSigFzZ8aj8RaRuz2vXAOFXtBPQFHgy2bRtMtwN6Ag8G+3POpdKee1pz2j/8wfpgOu882Lgx+cfZvBn+9Cfrt6pmTbvD/Lrr7A5zlxJhXll0Axar6hJV3QKMBU6LWUexoVsB6gDLg+enAWNVdbOqfg0sDvbnnEu1vDyrP7j9dnj2Weu1Npn1BfPn2wiLf/+79SA7cyZ0jVtK4kIWZrJoAiyLmi4I5kUbAfQXkQJgIja+d6LbIiIDRWS6iExftWpVsuJ2zsUjAsOHW3PbuXOhWzeYM2fX9qlq/VF17gwFBTBhgnU5XrNmcmJ2uyTMZFHS+JixBZz9gCdUtSnQG3hKRHIS3BZVHa2qXVW1a4MGDXY5YOdcOZ1xhg1CpQqHHw4vv7xz+1m50irPL7/cer2dO9cGy3JpI8xkUQBEd47flO3FTBEXAeMAVHUakAfUT3Bb51w66NTJKr7btbPkceed5av4fu01q8SePBnuvRcmTvT7JdJQmMniU2BfEWklItWwCutXYtb5FjgWQEQOwJLFqmC9viJSXURaAfsCn4QYq3NuVzRqZIMnnX02XHutdReyeXPZ22zYYFcSJ59syWH6dLjiCh/1ME2FNlKeqhaKyGDgDSAXeExV54nISGC6qr4CXAU8IiJXYsVMA9Ru/JgnIuOAL4BC4HJV3RZWrM65JMjPtwrvAw6AESNsmNOXXoKSiohnzbJebhcssAGLbrvNOwJMc35TnnMu+Z57znqE3Wsv+O9/rVPCvn0tmfznP9Y5YYMG1qrquONSHW2lluhNeT4Gt3Mu+c45B1q1skrqww6DI4+E996z7kKWL4c+fWD0aNhjj1RH6hLkVxbOufDk5ZVcd5GXF87NfK7c0qK7D+dcJff111bpHbnzOi/PuxLPUJ4snHPhadTI6itULVFs2eJdiWcoTxbOuXBFRuDzrsQzmldwO+fC9dJL25+PGpW6ONwu8SsL55zLYCtWWA8pYV+webJwzrkMduON1ip55Mhwj+PJwjnnMkhRkd0AX7Wqdf77yCPWfuChh2w6Pz+c43qycM65NLdsGTz2GPTrZw3JOneGwkKoUweqBDXPNWqE2yrZK7idcy7NrFtn/TJOmmSPBQts/l57Qc+ecPzx1kvKyJF2I3xeHmzaFG6rZE8WzjmXYoWF1unupEnw5pvWyriw0IqUjjrKBgw8/nho396KmiIirZIHDrSksWJFeDF6dx/OOVcBVqywvhSfe85+/X/1lSWGSZNgyhT4+WdLBJ07W2I44QT43e/C74zXOxJ0zrk0cv311mrpmGOsyChSt9C8Ofz+95YcjjkG6tdPbZyl8WThnHMhWb4cWrSwIqWI+fPtb5UqMG8e7Ltv8aKldBVqaygR6SkiC0VksYgML2H53SIyO3h8KSJro5bdKSLzRGS+iNwnkgkvp3OusluwAP72Nzj0UGjSxBLFbrttb7WUn2+tlpYtgzZtMiNRQIjJQkRygVFAL6At0E9E2kavo6pXqmpHVe0I3A+8FGz7O+Bw4ECgPXAwcFRYsTrn3M4qKrIK6eHDYf/9baDA666z+bfealcP551n05Ee2zOxL8Uwi6G6AYtVdQmAiIwFTsOGSi1JP+DG4Lli43FXAwSoCqwMMVbnnEvY5s0wdSpMmAAvv2xdbVSpAj162DDip54KTZtuX/+HHyqu1VJYwkwWTYBlUdMFwCElrSgiLYBWwBQAVZ0mIlOBFViyeEBV54cYq3PO/Sa25RJYa6XXX7cEMXGi3Qux227Qqxecfjr07g1165a8v2zoSzHMZFFSSVxp7XT7Ai+o6jYAEWkNHABEcvMkEemuqu8WO4DIQGAgQPPmzZMStHPO3XwzvP8+XHutjQo7YYI1b926Ffbc0xLJ6adb66W8vFRHWzHCTBYFQLOo6abA8lLW7QtcHjV9BvCRqq4HEJHXgUOBYslCVUcDo8Hus0hO2M65yio/35q1Rjz5pD1E4OqrLUEccsj2gf8qkzBbQ30K7CsirUSkGpYQXoldSUT2A+oB06JmfwscJSJVRKQqVrntxVDOuVBs3gzPP28tmKJVrQonnQTffQd33mk3yVXGRAEhJgtVLQQGA29gX/TjVHWeiIwUkVOjVu0HjNXit5K/AHwFzAXmAHNU9dWwYnXOVU5z58KwYdbE9eyzYfFi6NLFriTy8mDbNrtprlGjVEeaeqHelKeqE4GJMfNuiJkeUcJ224BLw4zNOVc5rV0LY8fCo49af0xVq1rx0kUXWed8Z51lRU2Z3HIpDH4Ht3Mu6xUVwTvvWDffL7xg9RIdOsA999g9ENFdbGRDy6UweLJwzmWtggJ44gl4/HFYssTGf7jgArjwwu3FTS4xniycc1ll82Z49VUrZnrzTbuq6NHDxn444wwbJMiVnycL51zGir55btUqK2Z66in48Ue7g/rPf7Yrib33TnWkmc+ThXMuY0W6/T7wQEsWkcrqCy+0MSEqazPXMHiycM5lFFVr1rply/Z5q1bZ35wcGDcuNXFlu1C7KHfOuWRZudJujNt/f0sUVapsv3KoUcNaNS1dmtIQs5onC+dc2tq2zTrt69PH6iCuvdb6ZnriCTj//O1XGZs2ZWa335nEi6Gcc2ln6VKrrH78cWv+2qCB3Wl90UV2ZQHWNXimd/udSTxZOOfSwubNlgDGjIHJk21ez55w771w8slQrVrx9f3muYrlycI5l1Kff273RESavLZoASNGwIAB1i+TSw+eLJxzoYsdTGj9ens+ZowNSVq1qt0wd/HFcOyx1qrJpRdPFs650EUGE/rjH2GPPawjv/XroW1b+Oc/oX9/q5dw6cuThXMuNLGDCY0fb39zc+HDD238CO+fKTP4xZ5zLqk2b7Y+mYYMKd6bK1gl9dlnWwunww7zRJFJ/MrCObfLVq60+yH++19LFOvX21XFccdZv0zvvQfVq9vNdHvs4fdDZKJQryxEpKeILBSRxSIyvITld4vI7ODxpYisjVrWXETeFJH5IvKFiLQMM1bnXOJUYc4cuOUWK0pq1Mj6Y/rkE6t/+O9/rWXTK69YcrjsMqvIHjQIvv8+1dG7nSHFRzNN4o5FcoEvgeOBAmxM7n6q+kUp6w8BOqnqhcH028CtqjpJRHYDilR1Q2nH69q1q06fPj3JZ+Gci9i4EaZOtUTw3//CsmVWjNStm90HcfLJcNBBXrSUaURkhqp2jbdemMVQ3YDFqrokCGgscBpQYrLAxuK+MVi3LVBFVScBqOr6EON0zgVim7guXw6vvWbJYfJk2LABataEE06Am26C3r2hYcNUR+0qQpjJogmwLGq6ADikpBVFpAXQCpgSzGoDrBWRl4L5k4HhwdjczrmQ3HST1S+ccooVNc2YYfNbtLBiplNOgaOOsvoHV7mEmSxKuhgtrcyrL/BCVDKoAhwJdAK+BZ4DBgCPFjuAyEBgIEBzv9XTuXLZuhW++AJmzoRLLrFO+yIiJbpVqsCsWdCunRcvVXZhJosCoFnUdFNgeSnr9gUuj9l2VlQR1gTgUGKShaqOBkaD1VkkJ2znss+mTdatxowZlhxmzoTPPts+JkSNGla89NNPUFhoLZn69IF//MNbLjkTZrL4FNhXRFoB32EJ4dzYlURkP6AeMC1m23oi0kBVVwHHAF577VyU2PqFiF9/tZZKkaQwcybMm2dJAKBuXejcGYYOtb+dO0Pr1nD55dZ7a16e3SvhXX67aKElC1UtFJHBwBtALvCYqs4TkZHAdFV9JVi1HzBWo5plqeo2EbkaeEtEBJgBPBJWrM5lokgXGpdeCkcfvT0xLFgARUW2Tv360KULnHTS9sTQsmXJRUorV3qX3650oTWdrWjedNZlq6Iia5X05Zf2GDy4eP1CtJNPtuQQSQxNmnhdgytbOjSddc5RenFRrB9/3J4Qoh+LF1uT1Yi8PKhVC9ats6RRvbpdOYwa5cVGLjyeLJwLWaS4aORI+PvfYdGi7Ykg+vmaNdu3yc21bjLatLEuu9u02f5o3Lh4/cKWLXavgycKFyZPFs4l0bZtdiXxzTfQo4c1T4146CF7RGva1BLA2WfDvvtuTwitWtkYD6Xx+gVX0TxZOBdIpLiosBC++87GiP7mG/sb/XzZsuIJIlpurt2vMHiwdZHRurU1V90ZPqSoq2ieLJwLRIqLrrrK7laOJIDovwUFO1YuN2pkLYy6dbMrhBYtbLpFC7jrLnj8ceuae8sWOPxwuwHOuUzjycJlnEQrjCO2boUffrCim8gjevrZZ7c3NQV45hl7gA3v2aSJffEfeWTxRNCyJTRrZvUGpVmzxouLXHbwprMuVOX9Yk/EH/8I//oXnHuuDbATnQRiE8HKlcUrjqPVqGEVw/Xq2Xrff29XDdWqWWK47Tbo1KnsugPnMp03nXXlEsaXOhRvCfTgg1bm/8sv8PPP9jeR55G/s2ZZ53YR//mPPaLVrm0JoGFDG9+5Rw97vuee2+dHHrvttn27yy4r3rqoTRsrVnLOGU8WGSbsL/URI+DOO61df/Rj48Yd55X1mDCheNFOSS2BSpOba1/6derY39q1rV6geXPr32jpUks61arZ0JzXXmuJYc89rU+jneGti5wrmxdDhSTZX+qFhdbnz5Ah9mv697+HYcO2f4lHf5mXNS92+bx5xX+t74ycHGvVU6PG9keVKvYarF5tSSM315qGnnyyNReNTQaR53Xq2Bd+aXcdR64AIhXGl15qVyzOuZ3jxVDlkOwvdlW44QYbF+DKK611zfr1xR/r1u04r7T569ZZr6HRnn/eHmWpWtW+uPPzd/y7xx72vE0b63Tum28sIVWtCh06wFln2a/56AQQ+4jsr2rVkr/cY4t2evSwm9J2hV8BOJcafmXB9grT2F+pmzZZl81r1tjfyKOs6QULynfsvDwrO488atUqPh2ZpwpvvWXFMFu22C/rww+HK66wFjklJYQqCf4UCOvXep8+lnCiv9ij7w9wzqVeolcWlTpZ5Ofv+Is9Ii+v9GVgv6Tr1LGWNPXqwe6729/q1W3MgMWLrclmpFz9iiuszD02EST6hQ7+pe6cSz4vhkrAkiX2Jf7ii/bLPdKm/ogjrFw9kgiik0HkUaeOlcOX5LLLYOHC7cUvbdvaF/KuCqsIxu8Gds7FU6mTRaNG1t+/iF0RbNliFbC7+mvdv9Sdc9mmUicLCOeL3b/UnXPZJtRkISI9gXuxkfLGqOrfYpbfDfQIJmsAe6pq3ajltYH5wHhVHRxGjP7F7pxz8YWWLEQkFxgFHA8UAJ+KyCuq+kVkHVW9Mmr9IUCnmN3cDLwTVozOOecSkxPivrsBi1V1iapuAcYCp5Wxfj/g2ciEiHQBGgJvhhijc865BISZLJoAy6KmC4J5OxCRFkArYEownQPcBVwTYnzOOecSFGayKKnDhtJu6ugLvKCqkZEC/ghMVNVlpaxvBxAZKCLTRWT6qlWrdiFU55xzZQmzgrsAaBY13RRYXsq6fYHLo6YPA44UkT8CuwHVRGS9qg6P3khVRwOjwW7KS1bgzjnnigszWXwK7CsirYDvsIRwbuxKIrIfUA+YFpmnqudFLR8AdI1NFM455ypOaMlCVQtFZDDwBtZ09jFVnSciI4HpqvpKsGo/YKzuYr8jM2bMWC0i3wB1gJ+jFpU1Hf28PrB6V2Io5Xg7u25py0qa7+ec2Dkn63xLi2ln1kvWOZe2rLKcczr/X5e1PB3OuUVCa6lqVj2A0YlOxzyfHsbxd3bd0paVNN/PObFzTtb5luec462XrHMubVllOed0/r/OpHMu6xFmBXeqvFqO6dhlYRx/Z9ctbVlJ8/2c0/ec462XrHOO93okQzqfczr/X5e1PN3OuVRZ0+vsrhKR6ZpAz4vZpLKdc2U7X/Bzriwq4pyz8cpiZ41OdQApUNnOubKdL/g5Vxahn7NfWTjnnIvLryycc87F5cnCOedcXJ4snHPOxeXJIg4ROVpE3hORh0Xk6FTHU1FEpKaIzBCRk1MdS0UQkQOC9/gFEbks1fFUBBE5XUQeEZGXReSEVMdTEURkbxF5VEReSHUsYQo+v/8O3t/z4m8RX1YnCxF5TER+EJHPY+b3FJGFIrJYROJ1I6LAeiAP6+8qrSXpnAGuBcaFE2VyJeOcVXW+qg4CzgbSvtllks55gqpeAgwAzgkx3KRI0jkvUdWLwo00HOU8/z5Y56yXAKcm5fjZ3BpKRLpjX/RPqmr7YF4u8CVRgzJhXY7kArfH7OJCYLWqFolIQ+CfGtVvVTpK0jkfiHUfkIed/38rJvqdk4xzVtUfRORUYDjwgKo+U1Hx74xknXOw3V3A06o6s4LC3ylJPucXVPX3FRV7MpTz/E8DXlfV2SLyjKru0C9feWX1GNyq+q6ItIyZ/dugTAAiMhY4TVVvB8oqcvkJqB5GnMmUjHMWkR5ATaAtsFFEJqpqUaiB74Jkvc9q/ZW9IiKvAWmdLJL0PgvwN+xLJa0TBST985xxynP+WOJoCswmSSVIWZ0sSlHSoEyHlLayiPQBTgTqAg+EG1poynXOqvoX+K3H39XpnCjKUN73+Wjs0r06MDHUyMJTrnMGhgDHAXVEpLWqPhxmcCEp7/u8B3Ar0ElErguSSiYr7fzvAx4QkZNIUrcglTFZlGdQJlT1JeCl8MKpEOU6599WUH0i+aFUmPK+z28Db4cVTAUp7znfh32pZLLynvOPwKDwwqlwJZ6/qv4KXJDMA2V1BXcpyjMoU7bwc/ZzzlaV8ZyjVdj5V8Zk8dugTCJSDRuU6ZU422Q6P2c/52xVGc85WoWdf1YnCxF5FhuBbz8RKRCRi1S1EIgMyjQfGKeq81IZZzL5Ofs54+ecNeccLdXnn9VNZ51zziVHVl9ZOOecSw5PFs455+LyZOGccy4uTxbOOefi8mThnHMuLk8Wzjnn4vJk4VwZRGR9kvYzQkSuTmC9J0Qko3pDdZWDJwvnnHNxebJwLgEispuIvCUiM0VkroicFsxvKSILRGSMiHwuIk+LyHEi8oGILBKRblG7OUhEpgTzLwm2FxF5QAkUBrsAAAGJSURBVES+CLpG3zPqmDeIyKfBfkcHXYo7lxKeLJxLzCbgDFXtDPQA7or68m4N3IsNGrU/cC5wBHA18OeofRwInAQcBtwgIo2BM4D9gA7AJcDvotZ/QFUPDga6ySfLxmdwmaUydlHu3M4Q4LZgtLIibByBhsGyr1V1LoCIzAPeUlUVkblAy6h9vKyqG7EBpaZiA9d0B55V1W3AchGZErV+DxH5E1AD2B2YR5LGJnCuvDxZOJeY84AGQBdV3SoiS7FhZwE2R61XFDVdRPHPWGxHbFrKfEQkD3gQ6Kqqy0RkRNTxnKtwXgzlXGLqAD8EiaIH0GIn9nGaiOQFo7UdjXUv/S7QV0RyRaQRVsQF2xPDahHZDfAWUi6l/MrCucQ8DbwqItOxcY0X7MQ+PgFeA5oDN6vqchEZDxwDzAW+BN4BUNW1IvJIMH8pllicSxnvotw551xcXgzlnHMuLk8Wzjnn4vJk4ZxzLi5PFs455+LyZOGccy4uTxbOOefi8mThnHMuLk8Wzjnn4vr/GOUh26nCskIAAAAASUVORK5CYII=\n",
      "text/plain": [
       "<Figure size 432x288 with 1 Axes>"
      ]
     },
     "metadata": {},
     "output_type": "display_data"
    }
   ],
   "source": [
    "def ridge_regression_demo(x, y, degree, ratio, seed):\n",
    "    \"\"\"ridge regression demo.\"\"\"\n",
    "    # define parameter\n",
    "    lambdas = np.logspace(-5, 0, 15)\n",
    "    # split data\n",
    "    x_tr, x_te, y_tr, y_te = split_data(x, y, ratio, seed)\n",
    "    # form tx\n",
    "    tx_tr = build_poly(x_tr, degree)\n",
    "    tx_te = build_poly(x_te, degree)\n",
    "\n",
    "    # ridge regression with different lambda\n",
    "    rmse_tr = []\n",
    "    rmse_te = []\n",
    "    for ind, lambda_ in enumerate(lambdas):\n",
    "        # ridge regression\n",
    "        weight = ridge_regression(y_tr, tx_tr, lambda_)\n",
    "        rmse_tr.append(np.sqrt(2 * compute_loss(y_tr, tx_tr, weight)))\n",
    "        rmse_te.append(np.sqrt(2 * compute_loss(y_te, tx_te, weight)))\n",
    "\n",
    "        print(\"proportion={p}, degree={d}, lambda={l:.3f}, Training RMSE={tr:.3f}, Testing RMSE={te:.3f}\".format(\n",
    "               p=ratio, d=degree, l=lambda_, tr=rmse_tr[ind], te=rmse_te[ind]))\n",
    "    plot_train_test(rmse_tr, rmse_te, lambdas, degree)\n",
    "    \n",
    "seed = 56\n",
    "degree = 7\n",
    "split_ratio = 0.9\n",
    "ridge_regression_demo(x, y, degree, split_ratio, seed)"
>>>>>>> 2506d0a86d492a6e8d8f1af28d86ceea87532240
   ]
  },
  {
   "cell_type": "code",
   "execution_count": null,
   "metadata": {},
   "outputs": [],
   "source": []
  }
 ],
 "metadata": {
  "kernelspec": {
   "display_name": "Python 3",
   "language": "python",
   "name": "python3"
  },
  "language_info": {
   "codemirror_mode": {
    "name": "ipython",
    "version": 3
   },
   "file_extension": ".py",
   "mimetype": "text/x-python",
   "name": "python",
   "nbconvert_exporter": "python",
   "pygments_lexer": "ipython3",
   "version": "3.6.5"
  }
 },
 "nbformat": 4,
 "nbformat_minor": 2
}
