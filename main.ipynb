{
 "cells": [
  {
   "cell_type": "markdown",
   "metadata": {},
   "source": [
    "### MACHINE LEARNING PROJECT I\n",
    "\n",
    "#### TEAM MEMBERS: ASLI YORUSUN - ERDEM BOCUGOZ - SERIF SONER SERBEST"
   ]
  },
  {
   "cell_type": "code",
   "execution_count": 26,
   "metadata": {},
   "outputs": [
    {
     "name": "stdout",
     "output_type": "stream",
     "text": [
      "The autoreload extension is already loaded. To reload it, use:\n",
      "  %reload_ext autoreload\n"
     ]
    }
   ],
   "source": [
    "# Useful starting lines\n",
    "%matplotlib inline\n",
    "import numpy as np\n",
    "import datetime\n",
    "import matplotlib.pyplot as plt\n",
    "\n",
    "from proj1_helpers import *\n",
    "from implementations import *\n",
    "from test import *\n",
    "from data_cleaning import *\n",
    "%load_ext autoreload\n",
    "%autoreload 2"
   ]
  },
  {
   "cell_type": "code",
   "execution_count": 24,
   "metadata": {},
   "outputs": [],
   "source": [
    "prediction,data,id_ = load_csv_data(\"train.csv\", sub_sample=True)"
   ]
  },
  {
   "cell_type": "markdown",
   "metadata": {},
   "source": [
    "### Data Cleaning & Standardization"
   ]
  },
  {
   "cell_type": "code",
   "execution_count": 28,
   "metadata": {},
   "outputs": [],
   "source": [
    "data = clean_data(data)"
   ]
  },
  {
   "cell_type": "code",
   "execution_count": 29,
   "metadata": {},
   "outputs": [],
   "source": [
    "x,mean_x,std_x = standardize(data)\n",
    "y,tx = build_model_data(prediction,x)"
   ]
  },
  {
   "cell_type": "code",
   "execution_count": 34,
   "metadata": {},
   "outputs": [
    {
     "data": {
      "text/plain": [
       "((5000,), (5000, 31))"
      ]
     },
     "execution_count": 34,
     "metadata": {},
     "output_type": "execute_result"
    }
   ],
   "source": [
    "y.shape, tx.shape"
   ]
  },
  {
   "cell_type": "markdown",
   "metadata": {},
   "source": [
    "### Gradient Descent"
   ]
  },
  {
   "cell_type": "code",
   "execution_count": 35,
   "metadata": {},
   "outputs": [
    {
     "name": "stdout",
     "output_type": "stream",
     "text": [
      "Gradient Descent(0/4): loss=0.5\n",
      "Gradient Descent(1/4): loss=0.49285829041712204\n",
      "Gradient Descent(2/4): loss=0.4871497783345379\n",
      "Gradient Descent(3/4): loss=0.48255009590766684\n",
      "Gradient Descent(4/4): loss=0.4788089721413071\n",
      "Gradient Descent: execution time=0.002 seconds\n"
     ]
    }
   ],
   "source": [
    "# Define the parameters of the algorithm.\n",
    "max_iters = 5\n",
    "gamma = 0.005\n",
    "\n",
    "# Initialization\n",
    "w_initial = np.zeros(tx.shape[1])\n",
    "\n",
    "# Start gradient descent.\n",
    "start_time = datetime.datetime.now()\n",
    "gradient_losses, gradient_ws = gradient_descent(y, tx, w_initial, max_iters, gamma)\n",
    "end_time = datetime.datetime.now()\n",
    "\n",
    "# Print result\n",
    "exection_time = (end_time - start_time).total_seconds()\n",
    "print(\"Gradient Descent: execution time={t:.3f} seconds\".format(t=exection_time))"
   ]
  },
  {
   "cell_type": "markdown",
   "metadata": {},
   "source": [
    "### Stochastic Gradient Descent"
   ]
  },
  {
   "cell_type": "code",
   "execution_count": 36,
   "metadata": {},
   "outputs": [
    {
     "name": "stdout",
     "output_type": "stream",
     "text": [
      "SGD(0/4): loss=0.4805887538042158\n",
      "SGD(1/4): loss=0.4702982649218755\n",
      "SGD(2/4): loss=0.4667883616244574\n",
      "SGD(3/4): loss=0.4667916973085463\n",
      "SGD(4/4): loss=0.47031455925477406\n",
      "SGD: execution time=0.006 seconds\n"
     ]
    }
   ],
   "source": [
    "# Define the parameters of the algorithm.\n",
    "max_iters = 5\n",
    "gamma = 0.005\n",
    "batch_size = 1\n",
    "\n",
    "# Initialization\n",
    "w_initial = np.zeros(tx.shape[1])\n",
    "\n",
    "# Start SGD.\n",
    "start_time = datetime.datetime.now()\n",
    "sgd_losses, sgd_ws = stochastic_gradient_descent(\n",
    "    y, tx, w_initial, batch_size, max_iters, gamma)\n",
    "end_time = datetime.datetime.now()\n",
    "\n",
    "# Print result\n",
    "exection_time = (end_time - start_time).total_seconds()\n",
    "print(\"SGD: execution time={t:.3f} seconds\".format(t=exection_time))"
   ]
  },
  {
   "cell_type": "markdown",
   "metadata": {},
   "source": [
    "### Least Squares"
   ]
  },
  {
   "cell_type": "code",
   "execution_count": 37,
   "metadata": {},
   "outputs": [
    {
     "name": "stdout",
     "output_type": "stream",
     "text": [
      "Least Squares, rmse=0.8091463871124583\n"
     ]
    }
   ],
   "source": [
    "weights = least_squares(y, tx)\n",
    "# compute RMSE\n",
    "mse = compute_loss(y, tx, weights)\n",
    "rmse = np.sqrt(2 * mse)\n",
    "\n",
    "print(\"Least Squares, rmse={loss}\".format(loss=rmse)) "
   ]
  },
  {
   "cell_type": "markdown",
   "metadata": {},
   "source": [
    "### Ridge Regression"
   ]
  },
  {
   "cell_type": "code",
   "execution_count": 46,
   "metadata": {},
   "outputs": [
    {
     "name": "stdout",
     "output_type": "stream",
     "text": [
      "proportion=0.9, degree=10, lambda=0.000, Training RMSE=0.717, Testing RMSE=4.300\n",
      "proportion=0.9, degree=10, lambda=0.000, Training RMSE=0.717, Testing RMSE=4.282\n",
      "proportion=0.9, degree=10, lambda=0.000, Training RMSE=0.717, Testing RMSE=4.267\n",
      "proportion=0.9, degree=10, lambda=0.000, Training RMSE=0.717, Testing RMSE=4.254\n",
      "proportion=0.9, degree=10, lambda=0.000, Training RMSE=0.717, Testing RMSE=4.237\n",
      "proportion=0.9, degree=10, lambda=0.000, Training RMSE=0.717, Testing RMSE=4.209\n",
      "proportion=0.9, degree=10, lambda=0.000, Training RMSE=0.717, Testing RMSE=4.160\n",
      "proportion=0.9, degree=10, lambda=0.000, Training RMSE=0.717, Testing RMSE=4.077\n",
      "proportion=0.9, degree=10, lambda=0.000, Training RMSE=0.718, Testing RMSE=3.942\n",
      "proportion=0.9, degree=10, lambda=0.000, Training RMSE=0.718, Testing RMSE=3.729\n",
      "proportion=0.9, degree=10, lambda=0.000, Training RMSE=0.718, Testing RMSE=3.430\n",
      "proportion=0.9, degree=10, lambda=0.000, Training RMSE=0.719, Testing RMSE=3.033\n",
      "proportion=0.9, degree=10, lambda=0.000, Training RMSE=0.720, Testing RMSE=2.542\n",
      "proportion=0.9, degree=10, lambda=0.000, Training RMSE=0.721, Testing RMSE=2.005\n",
      "proportion=0.9, degree=10, lambda=0.000, Training RMSE=0.722, Testing RMSE=1.556\n",
      "proportion=0.9, degree=10, lambda=0.000, Training RMSE=0.723, Testing RMSE=1.491\n",
      "proportion=0.9, degree=10, lambda=0.000, Training RMSE=0.724, Testing RMSE=1.915\n",
      "proportion=0.9, degree=10, lambda=0.000, Training RMSE=0.725, Testing RMSE=2.532\n",
      "proportion=0.9, degree=10, lambda=0.000, Training RMSE=0.726, Testing RMSE=3.102\n",
      "proportion=0.9, degree=10, lambda=0.000, Training RMSE=0.727, Testing RMSE=3.518\n",
      "proportion=0.9, degree=10, lambda=0.000, Training RMSE=0.728, Testing RMSE=3.745\n",
      "proportion=0.9, degree=10, lambda=0.000, Training RMSE=0.729, Testing RMSE=3.799\n",
      "proportion=0.9, degree=10, lambda=0.000, Training RMSE=0.730, Testing RMSE=3.703\n",
      "proportion=0.9, degree=10, lambda=0.000, Training RMSE=0.731, Testing RMSE=3.492\n",
      "proportion=0.9, degree=10, lambda=0.000, Training RMSE=0.732, Testing RMSE=3.193\n",
      "proportion=0.9, degree=10, lambda=0.000, Training RMSE=0.734, Testing RMSE=2.828\n",
      "proportion=0.9, degree=10, lambda=0.000, Training RMSE=0.735, Testing RMSE=2.416\n",
      "proportion=0.9, degree=10, lambda=0.000, Training RMSE=0.737, Testing RMSE=1.985\n",
      "proportion=0.9, degree=10, lambda=0.000, Training RMSE=0.738, Testing RMSE=1.568\n",
      "proportion=0.9, degree=10, lambda=0.000, Training RMSE=0.741, Testing RMSE=1.199\n",
      "proportion=0.9, degree=10, lambda=0.000, Training RMSE=0.743, Testing RMSE=0.923\n",
      "proportion=0.9, degree=10, lambda=0.000, Training RMSE=0.746, Testing RMSE=0.814\n",
      "proportion=0.9, degree=10, lambda=0.000, Training RMSE=0.750, Testing RMSE=0.926\n",
      "proportion=0.9, degree=10, lambda=0.001, Training RMSE=0.753, Testing RMSE=1.197\n",
      "proportion=0.9, degree=10, lambda=0.001, Training RMSE=0.756, Testing RMSE=1.529\n",
      "proportion=0.9, degree=10, lambda=0.001, Training RMSE=0.759, Testing RMSE=1.860\n",
      "proportion=0.9, degree=10, lambda=0.002, Training RMSE=0.762, Testing RMSE=2.156\n",
      "proportion=0.9, degree=10, lambda=0.004, Training RMSE=0.765, Testing RMSE=2.409\n",
      "proportion=0.9, degree=10, lambda=0.006, Training RMSE=0.769, Testing RMSE=2.619\n",
      "proportion=0.9, degree=10, lambda=0.009, Training RMSE=0.774, Testing RMSE=2.781\n",
      "proportion=0.9, degree=10, lambda=0.015, Training RMSE=0.782, Testing RMSE=2.881\n",
      "proportion=0.9, degree=10, lambda=0.023, Training RMSE=0.791, Testing RMSE=2.912\n",
      "proportion=0.9, degree=10, lambda=0.037, Training RMSE=0.804, Testing RMSE=2.887\n",
      "proportion=0.9, degree=10, lambda=0.060, Training RMSE=0.818, Testing RMSE=2.850\n",
      "proportion=0.9, degree=10, lambda=0.095, Training RMSE=0.832, Testing RMSE=2.853\n",
      "proportion=0.9, degree=10, lambda=0.153, Training RMSE=0.846, Testing RMSE=2.898\n",
      "proportion=0.9, degree=10, lambda=0.244, Training RMSE=0.859, Testing RMSE=2.880\n",
      "proportion=0.9, degree=10, lambda=0.391, Training RMSE=0.870, Testing RMSE=2.627\n",
      "proportion=0.9, degree=10, lambda=0.625, Training RMSE=0.879, Testing RMSE=2.006\n",
      "proportion=0.9, degree=10, lambda=1.000, Training RMSE=0.886, Testing RMSE=1.223\n"
     ]
    },
    {
     "data": {
      "image/png": "[encoded data removed]",
      "text/plain": [
       "<Figure size 432x288 with 1 Axes>"
      ]
     },
     "metadata": {},
     "output_type": "display_data"
    }
   ],
   "source": [
    "def ridge_regression_demo(x, y, degree, ratio, seed):\n",
    "    \"\"\"ridge regression demo.\"\"\"\n",
    "    # define parameter\n",
    "    lambdas = np.logspace(-10, 0, 50)\n",
    "    # split data\n",
    "    x_tr, x_te, y_tr, y_te = split_data(x, y, ratio, seed)\n",
    "    # form tx\n",
    "    tx_tr = build_poly(x_tr, degree)\n",
    "    tx_te = build_poly(x_te, degree)\n",
    "\n",
    "    # ridge regression with different lambda\n",
    "    rmse_tr = []\n",
    "    rmse_te = []\n",
    "    for ind, lambda_ in enumerate(lambdas):\n",
    "        # ridge regression\n",
    "        weight = ridge_regression(y_tr, tx_tr, lambda_)\n",
    "        rmse_tr.append(np.sqrt(2 * compute_loss(y_tr, tx_tr, weight)))\n",
    "        rmse_te.append(np.sqrt(2 * compute_loss(y_te, tx_te, weight)))\n",
    "\n",
    "        print(\"proportion={p}, degree={d}, lambda={l:.3f}, Training RMSE={tr:.3f}, Testing RMSE={te:.3f}\".format(\n",
    "               p=ratio, d=degree, l=lambda_, tr=rmse_tr[ind], te=rmse_te[ind]))\n",
    "    plot_train_test(rmse_tr, rmse_te, lambdas, degree)\n",
    "    \n",
    "seed = 1\n",
    "degree = 10\n",
    "split_ratio = 0.9\n",
    "ridge_regression_demo(x, y, degree, split_ratio, seed)"
   ]
  },
  {
   "cell_type": "markdown",
   "metadata": {},
   "source": [
    "### Cross Validation"
   ]
  },
  {
   "cell_type": "code",
   "execution_count": 47,
   "metadata": {},
   "outputs": [
    {
     "data": {
      "image/png": "[encoded data removed]",
      "text/plain": [
       "<Figure size 432x288 with 1 Axes>"
      ]
     },
     "metadata": {},
     "output_type": "display_data"
    }
   ],
   "source": [
    "def cross_validation_demo():\n",
    "    seed = 1\n",
    "    degree = 7\n",
    "    k_fold = 4\n",
    "    lambdas = np.logspace(-10, 0, 50)\n",
    "    # split data in k fold\n",
    "    k_indices = build_k_indices(y, k_fold, seed)\n",
    "    # define lists to store the loss of training data and test data\n",
    "    rmse_tr = []\n",
    "    rmse_te = []\n",
    "    # ***************************************************\n",
    "    # INSERT YOUR CODE HERE\n",
    "    rmse_tr = []\n",
    "    rmse_te = []\n",
    "    for ind, lambda_ in enumerate(lambdas):\n",
    "        # ridge regression\n",
    "        for k in range(4):\n",
    "            [a,b] = cross_validation(y,x,k_indices,k,lambda_,degree)\n",
    "            rmse_tr.append(a)\n",
    "            rmse_te.append(b)\n",
    "    rmse_tr = np.asarray(rmse_tr).reshape(-1,4)\n",
    "    rmse_te = np.asarray(rmse_te).reshape(-1,4)\n",
    "    rmse_tr = np.mean(rmse_tr,axis=1)\n",
    "    rmse_te = np.mean(rmse_te,axis=1)\n",
    "    # cross validation: TODO\n",
    "    # ***************************************************   \n",
    "    cross_validation_visualization(lambdas,rmse_tr,rmse_te)\n",
    "cross_validation_demo()"
   ]
  },
  {
   "cell_type": "code",
   "execution_count": null,
   "metadata": {
    "collapsed": true
   },
   "outputs": [],
   "source": []
  }
 ],
 "metadata": {
  "kernelspec": {
   "display_name": "Python 3",
   "language": "python",
   "name": "python3"
  },
  "language_info": {
   "codemirror_mode": {
    "name": "ipython",
    "version": 3
   },
   "file_extension": ".py",
   "mimetype": "text/x-python",
   "name": "python",
   "nbconvert_exporter": "python",
   "pygments_lexer": "ipython3",
   "version": "3.6.5"
  }
 },
 "nbformat": 4,
 "nbformat_minor": 2
}
