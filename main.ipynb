{
 "cells": [
  {
   "cell_type": "markdown",
   "metadata": {},
   "source": [
    "### MACHINE LEARNING PROJECT I\n",
    "\n",
    "#### TEAM MEMBERS: ASLI YORUSUN - ERDEM BOCUGOZ - SERIF SONER SERBEST"
   ]
  },
  {
   "cell_type": "code",
   "execution_count": 46,
   "metadata": {},
   "outputs": [
    {
     "name": "stdout",
     "output_type": "stream",
     "text": [
      "The autoreload extension is already loaded. To reload it, use:\n",
      "  %reload_ext autoreload\n"
     ]
    }
   ],
   "source": [
    "# Useful starting lines\n",
    "%matplotlib inline\n",
    "import numpy as np\n",
    "import datetime\n",
    "import matplotlib.pyplot as plt\n",
    "\n",
    "from helpers import *\n",
    "from implementations import *\n",
    "from data import *\n",
    "\n",
    "%load_ext autoreload\n",
    "%autoreload 2"
   ]
  },
  {
   "cell_type": "markdown",
   "metadata": {},
   "source": [
    "### Importing Raw Data"
   ]
  },
  {
   "cell_type": "code",
   "execution_count": 47,
   "metadata": {},
   "outputs": [],
   "source": [
    "prediction,data,id_ = load_csv_data(\"train.csv\", sub_sample=False)"
   ]
  },
  {
   "cell_type": "code",
   "execution_count": 48,
   "metadata": {},
   "outputs": [
    {
     "data": {
      "text/plain": [
       "(250000, 30)"
      ]
     },
     "execution_count": 48,
     "metadata": {},
     "output_type": "execute_result"
    }
   ],
   "source": [
    "data.shape"
   ]
  },
  {
   "cell_type": "markdown",
   "metadata": {},
   "source": [
    "### Data Processing"
   ]
  },
  {
   "cell_type": "code",
   "execution_count": 49,
   "metadata": {},
   "outputs": [],
   "source": [
    "pred_0, pred_1, pred_2, pred_3, data_0, data_1, data_2, data_3, indices_0, indices_1, indices_2, indices_3 = categorizeData(prediction, data)\n",
    "\n",
    "data_0 = clean_data(data_0)\n",
    "data_1 = clean_data(data_1)\n",
    "data_2 = clean_data(data_2)\n",
    "data_3 = clean_data(data_3)\n"
   ]
  },
  {
   "cell_type": "code",
   "execution_count": 50,
   "metadata": {},
   "outputs": [],
   "source": [
    "x, mean_x, std_x = standardize(data)\n",
    "y, tx = build_model_data(prediction, x)\n",
    "\n",
    "x0, mean_x0, std_x0 = standardize(data_0)\n",
    "y0, tx0 = build_model_data(pred_0,x0)\n",
    "\n",
    "x1, mean_x1, std_x1 = standardize(data_1)\n",
    "y1, tx1 = build_model_data(pred_1,x1)\n",
    "\n",
    "x2, mean_x2, std_x2 = standardize(data_2)\n",
    "y2, tx2 = build_model_data(pred_2,x2)\n",
    "\n",
    "x3, mean_x3, std_x3 = standardize(data_3)\n",
    "y3, tx3 = build_model_data(pred_3,x3)"
   ]
  },
  {
   "cell_type": "markdown",
   "metadata": {},
   "source": [
    "### Gradient Descent"
   ]
  },
  {
   "cell_type": "code",
   "execution_count": 51,
   "metadata": {},
   "outputs": [
    {
     "name": "stdout",
     "output_type": "stream",
     "text": [
      "Gradient Descent: execution time=6.419 seconds\n",
      "Gradient Descent: RMSE Loss =0.41232720675632334\n"
     ]
    }
   ],
   "source": [
    "# Define the parameters of the algorithm.\n",
    "max_iters = 500\n",
    "gamma = 0.1\n",
    "\n",
    "# Initialization\n",
    "initial_w = np.zeros(tx.shape[1])\n",
    "\n",
    "weights, loss = least_squares_GD(y, tx, initial_w, max_iters, gamma)"
   ]
  },
  {
   "cell_type": "markdown",
   "metadata": {},
   "source": [
    "### Stochastic Gradient Descent"
   ]
  },
  {
   "cell_type": "code",
   "execution_count": 52,
   "metadata": {},
   "outputs": [
    {
     "name": "stdout",
     "output_type": "stream",
     "text": [
      "Gradient Descent: execution time=6.538 seconds\n",
      "Gradient Descent: RMSE Loss =0.41232720675632334\n"
     ]
    }
   ],
   "source": [
    "# Define the parameters of the algorithm.\n",
    "max_iters = 500\n",
    "gamma = 0.1\n",
    "\n",
    "# Initialization\n",
    "initial_w = np.zeros(tx.shape[1])\n",
    "\n",
    "weights, loss = least_squares_GD(y, tx, initial_w, max_iters, gamma)"
   ]
  },
  {
   "cell_type": "markdown",
   "metadata": {},
   "source": [
    "### Least Squares"
   ]
  },
  {
   "cell_type": "code",
   "execution_count": 53,
   "metadata": {
    "scrolled": false
   },
   "outputs": [
    {
     "name": "stdout",
     "output_type": "stream",
     "text": [
      "Least Squares: execution time=0.044 seconds\n",
      "Least Squares: RMSE Loss =0.4119742701245614\n"
     ]
    }
   ],
   "source": [
    "weights, loss = least_squares(y, tx)"
   ]
  },
  {
   "cell_type": "markdown",
   "metadata": {},
   "source": [
    "### Ridge Regression"
   ]
  },
  {
   "cell_type": "code",
   "execution_count": 54,
   "metadata": {},
   "outputs": [
    {
     "name": "stdout",
     "output_type": "stream",
     "text": [
      "Selecting Hyperparameter By Splitting the Data...\n",
      "Hyperparameter Selection: Lambda =0.005689866029018305\n",
      "Ridge Regression: RMSE Loss =0.41250633053033664\n"
     ]
    },
    {
     "data": {
      "image/png": "[encoded data removed]",
      "text/plain": [
       "<Figure size 432x288 with 1 Axes>"
      ]
     },
     "metadata": {},
     "output_type": "display_data"
    }
   ],
   "source": [
    "seed = 1\n",
    "degree = 10\n",
    "split_ratio = 0.9\n",
    "lambdas = np.logspace(-10, 0, 50)\n",
    "\n",
    "lambda_ = select_hyperparameter_for_ridge_regression(x, y, degree, split_ratio, seed, lambdas)\n",
    "\n",
    "weights, loss = ridge_regression(y, tx, lambda_)"
   ]
  },
  {
   "cell_type": "markdown",
   "metadata": {},
   "source": [
    "### Logistic Regression"
   ]
  },
  {
   "cell_type": "code",
   "execution_count": 55,
   "metadata": {},
   "outputs": [
    {
     "name": "stdout",
     "output_type": "stream",
     "text": [
      "Regularized Logistic Regression: Loss=0.5313728708781967\n"
     ]
    }
   ],
   "source": [
    "# init parameters\n",
    "max_iter = 100\n",
    "gamma = 0.1\n",
    "\n",
    "weights = logistic_regression_gradient_descent_demo(y, tx, max_iter, gamma)\n",
    "# w0 = logistic_regression_gradient_descent_demo(y0, tx0, max_iter, threshold, gamma)\n",
    "# w1 = logistic_regression_gradient_descent_demo(y1, tx1, max_iter, threshold, gamma)\n",
    "# w2 = logistic_regression_gradient_descent_demo(y2, tx2, max_iter, threshold, gamma)\n",
    "# w3 = logistic_regression_gradient_descent_demo(y3, tx3, max_iter, threshold, gamma)\n",
    "\n"
   ]
  },
  {
   "cell_type": "code",
   "execution_count": 56,
   "metadata": {},
   "outputs": [
    {
     "ename": "NameError",
     "evalue": "name 'w0' is not defined",
     "output_type": "error",
     "traceback": [
      "\u001b[1;31m---------------------------------------------------------------------------\u001b[0m",
      "\u001b[1;31mNameError\u001b[0m                                 Traceback (most recent call last)",
      "\u001b[1;32m<ipython-input-56-f1b7b90e2e7f>\u001b[0m in \u001b[0;36m<module>\u001b[1;34m()\u001b[0m\n\u001b[0;32m      1\u001b[0m \u001b[1;31m### Test Log Reg\u001b[0m\u001b[1;33m\u001b[0m\u001b[1;33m\u001b[0m\u001b[0m\n\u001b[0;32m      2\u001b[0m \u001b[1;33m\u001b[0m\u001b[0m\n\u001b[1;32m----> 3\u001b[1;33m \u001b[0my_pred0\u001b[0m \u001b[1;33m=\u001b[0m \u001b[0mpredict_labels\u001b[0m\u001b[1;33m(\u001b[0m\u001b[0mw0\u001b[0m\u001b[1;33m,\u001b[0m\u001b[0mtx0\u001b[0m\u001b[1;33m)\u001b[0m\u001b[1;33m\u001b[0m\u001b[0m\n\u001b[0m\u001b[0;32m      4\u001b[0m \u001b[0my_pred1\u001b[0m \u001b[1;33m=\u001b[0m \u001b[0mpredict_labels\u001b[0m\u001b[1;33m(\u001b[0m\u001b[0mw1\u001b[0m\u001b[1;33m,\u001b[0m\u001b[0mtx1\u001b[0m\u001b[1;33m)\u001b[0m\u001b[1;33m\u001b[0m\u001b[0m\n\u001b[0;32m      5\u001b[0m \u001b[0my_pred2\u001b[0m \u001b[1;33m=\u001b[0m \u001b[0mpredict_labels\u001b[0m\u001b[1;33m(\u001b[0m\u001b[0mw2\u001b[0m\u001b[1;33m,\u001b[0m\u001b[0mtx2\u001b[0m\u001b[1;33m)\u001b[0m\u001b[1;33m\u001b[0m\u001b[0m\n",
      "\u001b[1;31mNameError\u001b[0m: name 'w0' is not defined"
     ]
    }
   ],
   "source": [
    "### Test Log Reg\n",
    "\n",
    "y_pred0 = predict_labels(w0,tx0)\n",
    "y_pred1 = predict_labels(w1,tx1)\n",
    "y_pred2 = predict_labels(w2,tx2)\n",
    "y_pred3 = predict_labels(w3,tx3)\n",
    "\n",
    "rows = prediction.shape[0]\n",
    "labels = decategorizePrediction(rows, y_pred0, y_pred1, y_pred2, y_pred3, indices_0, indices_1, indices_2, indices_3)\n",
    "\n",
    "labels = np.where(labels == -1, 0, labels)\n",
    "\n",
    "score = np.invert(np.logical_xor(prediction, np.squeeze(labels)))\n",
    "score.mean()"
   ]
  },
  {
   "cell_type": "markdown",
   "metadata": {},
   "source": [
    "### Regularised Logistic Regression"
   ]
  },
  {
   "cell_type": "code",
   "execution_count": 57,
   "metadata": {},
   "outputs": [
    {
     "name": "stdout",
     "output_type": "stream",
     "text": [
      "Regularized Logistic Regression: Loss=0.533355983057027\n"
     ]
    }
   ],
   "source": [
    "# Define the parameters of the algorithm.\n",
    "max_iter = 100\n",
    "gamma = 0.1\n",
    "\n",
    "weights, loss = reg_logistic_regression(y, tx, lambda_, max_iter, gamma)"
   ]
  },
  {
   "cell_type": "markdown",
   "metadata": {},
   "source": [
    "### Cross Validation"
   ]
  },
  {
   "cell_type": "code",
   "execution_count": null,
   "metadata": {},
   "outputs": [],
   "source": [
    "seed = 32\n",
    "degree = 10\n",
    "k_fold = 4\n",
    "step = 10\n",
    "lambdas = np.logspace(-10, 0, step)\n",
    "\n",
    "# Cross Validation for Ridge Regression\n",
    "lambda_ = select_hyperparameter_with_cross_validation(y, x, seed, degree, k_fold, step, lambdas)"
   ]
  },
  {
   "cell_type": "markdown",
   "metadata": {
    "collapsed": true
   },
   "source": [
    "### TEST"
   ]
  },
  {
   "cell_type": "code",
   "execution_count": 116,
   "metadata": {},
   "outputs": [],
   "source": [
    "test_label,test_data,test_id_ = load_csv_data(\"test.csv\", sub_sample=False)\n",
    "\n",
    "# Split the data\n",
    "pred_0_test, pred_1_test, pred_2_test, pred_3_test, data_0_test, data_1_test, data_2_test, data_3_test, indices_0_test, indices_1_test, indices_2_test, indices_3_test = categorizeData(test_label, test_data)\n",
    "\n",
    "# Clean the data\n",
    "data_0_test = clean_data(data_0_test)\n",
    "data_1_test = clean_data(data_1_test)\n",
    "data_2_test = clean_data(data_2_test)\n",
    "data_3_test = clean_data(data_3_test)\n",
    "\n",
    "# Standardize the data\n",
    "x0_test, mean_x0_test, std_x0_test = standardize(data_0_test)\n",
    "y0_test, tx0_test = build_model_data(pred_0_test,x0_test)\n",
    "\n",
    "x1_test, mean_x1_test, std_x1_test = standardize(data_1_test)\n",
    "y1_test, tx1_test = build_model_data(pred_1_test,x1_test)\n",
    "\n",
    "x2_test, mean_x2_test, std_x2_test = standardize(data_2_test)\n",
    "y2_test, tx2_test = build_model_data(pred_2_test,x2_test)\n",
    "\n",
    "x3_test, mean_x3_test, std_x3_test = standardize(data_3_test)\n",
    "y3_test, tx3_test = build_model_data(pred_3_test,x3_test)\n",
    "\n",
    "# Label predictions\n",
    "y_pred0 = predict_labels(w0,tx0_test)\n",
    "y_pred1 = predict_labels(w1,tx1_test)\n",
    "y_pred2 = predict_labels(w2,tx2_test)\n",
    "y_pred3 = predict_labels(w3,tx3_test)\n",
    "\n",
    "# Prepare for submission\n",
    "rows = test_label.shape[0]\n",
    "labels = decategorizePrediction(rows, y_pred0, y_pred1, y_pred2, y_pred3, indices_0_test, indices_1_test, indices_2_test, indices_3_test)\n",
    "\n",
    "# Create submission file\n",
    "create_csv_submission(test_id_,labels,\"submission.csv\")"
   ]
  },
  {
   "cell_type": "code",
   "execution_count": null,
   "metadata": {},
   "outputs": [],
   "source": []
  }
 ],
 "metadata": {
  "kernelspec": {
   "display_name": "Python 3",
   "language": "python",
   "name": "python3"
  },
  "language_info": {
   "codemirror_mode": {
    "name": "ipython",
    "version": 3
   },
   "file_extension": ".py",
   "mimetype": "text/x-python",
   "name": "python",
   "nbconvert_exporter": "python",
   "pygments_lexer": "ipython3",
   "version": "3.6.5"
  }
 },
 "nbformat": 4,
 "nbformat_minor": 2
}
