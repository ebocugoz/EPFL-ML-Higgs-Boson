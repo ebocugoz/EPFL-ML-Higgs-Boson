{
 "cells": [
  {
   "cell_type": "markdown",
   "metadata": {},
   "source": [
    "### MACHINE LEARNING PROJECT I\n",
    "\n",
    "#### TEAM MEMBERS: ASLI YORUSUN - ERDEM BOCUGOZ - SERIF SONER SERBEST"
   ]
  },
  {
   "cell_type": "code",
   "execution_count": 1,
   "metadata": {},
   "outputs": [],
   "source": [
    "# Useful starting lines\n",
    "%matplotlib inline\n",
    "import numpy as np\n",
    "import datetime\n",
    "import matplotlib.pyplot as plt\n",
    "\n",
    "from proj1_helpers import *\n",
    "from implementations import *\n",
    "from test import *\n",
    "from data_cleaning import *\n",
    "%load_ext autoreload\n",
    "%autoreload 2"
   ]
  },
  {
   "cell_type": "code",
   "execution_count": 2,
   "metadata": {
    "collapsed": true
   },
   "outputs": [],
   "source": [
    "prediction,data,id_ = load_csv_data(\"train.csv\", sub_sample=False)"
   ]
  },
  {
   "cell_type": "code",
   "execution_count": 3,
   "metadata": {},
   "outputs": [
    {
     "data": {
      "text/plain": [
       "(250000, 30)"
      ]
     },
     "execution_count": 3,
     "metadata": {},
     "output_type": "execute_result"
    }
   ],
   "source": [
    "data.shape"
   ]
  },
  {
   "cell_type": "markdown",
   "metadata": {},
   "source": [
    "### Data Cleaning & Standardization"
   ]
  },
  {
   "cell_type": "code",
   "execution_count": 4,
   "metadata": {
    "collapsed": true
   },
   "outputs": [],
   "source": [
    "data = clean_data(data)"
   ]
  },
  {
   "cell_type": "code",
   "execution_count": 5,
   "metadata": {
    "collapsed": true
   },
   "outputs": [],
   "source": [
    "def reject_outliers(data, m=2):\n",
    "    return data[abs(data - np.mean(data)) < m * np.std(data)]"
   ]
  },
  {
   "cell_type": "code",
   "execution_count": 6,
   "metadata": {
    "collapsed": true
   },
   "outputs": [],
   "source": [
    "x,mean_x,std_x = standardize(data)\n",
    "y,tx = build_model_data(prediction,x)"
   ]
  },
  {
   "cell_type": "code",
   "execution_count": 7,
   "metadata": {
    "collapsed": true
   },
   "outputs": [],
   "source": [
    "#data = reject_outliers(data)"
   ]
  },
  {
   "cell_type": "markdown",
   "metadata": {},
   "source": [
    "### Gradient Descent"
   ]
  },
  {
   "cell_type": "code",
   "execution_count": 9,
   "metadata": {},
   "outputs": [
    {
     "name": "stdout",
     "output_type": "stream",
     "text": [
      "Gradient Descent(0/4): loss=0.171334\n",
      "Gradient Descent(1/4): loss=0.1701457980941988\n",
      "Gradient Descent(2/4): loss=0.16898500063033609\n",
      "Gradient Descent(3/4): loss=0.1678505588272017\n",
      "Gradient Descent(4/4): loss=0.16674147735682052\n",
      "Gradient Descent: execution time=0.099 seconds\n"
     ]
    }
   ],
   "source": [
    "# Define the parameters of the algorithm.\n",
    "max_iters = 5\n",
    "gamma = 0.005\n",
    "\n",
    "# Initialization\n",
    "w_initial = np.zeros(tx.shape[1])\n",
    "\n",
    "# Start gradient descent.\n",
    "start_time = datetime.datetime.now()\n",
    "gradient_losses, gradient_ws = gradient_descent(y, tx, w_initial, max_iters, gamma)\n",
    "end_time = datetime.datetime.now()\n",
    "\n",
    "# Print result\n",
    "exection_time = (end_time - start_time).total_seconds()\n",
    "print(\"Gradient Descent: execution time={t:.3f} seconds\".format(t=exection_time))"
   ]
  },
  {
   "cell_type": "markdown",
   "metadata": {},
   "source": [
    "### Stochastic Gradient Descent"
   ]
  },
  {
   "cell_type": "code",
   "execution_count": 10,
   "metadata": {},
   "outputs": [
    {
     "name": "stdout",
     "output_type": "stream",
     "text": [
      "SGD(0/4): loss=0.171334\n",
      "SGD(1/4): loss=0.16984704729702665\n",
      "SGD(2/4): loss=0.1698483672645565\n",
      "SGD(3/4): loss=0.16987352549221288\n",
      "SGD(4/4): loss=0.16987045568834358\n",
      "SGD: execution time=0.315 seconds\n"
     ]
    }
   ],
   "source": [
    "# Define the parameters of the algorithm.\n",
    "max_iters = 5\n",
    "gamma = 0.005\n",
    "batch_size = 1\n",
    "\n",
    "# Initialization\n",
    "w_initial = np.zeros(tx.shape[1])\n",
    "\n",
    "# Start SGD.\n",
    "start_time = datetime.datetime.now()\n",
    "sgd_losses, sgd_ws = stochastic_gradient_descent(\n",
    "    y, tx, w_initial, batch_size, max_iters, gamma)\n",
    "end_time = datetime.datetime.now()\n",
    "\n",
    "# Print result\n",
    "exection_time = (end_time - start_time).total_seconds()\n",
    "print(\"SGD: execution time={t:.3f} seconds\".format(t=exection_time))"
   ]
  },
  {
   "cell_type": "markdown",
   "metadata": {},
   "source": [
    "### Least Squares"
   ]
  },
  {
   "cell_type": "code",
   "execution_count": 11,
   "metadata": {},
   "outputs": [
    {
     "name": "stdout",
     "output_type": "stream",
     "text": [
      "Least Squares, rmse=0.41255875470141107\n"
     ]
    }
   ],
   "source": [
    "weights = least_squares(y, tx)\n",
    "# compute RMSE\n",
    "mse = compute_loss(y, tx, weights)\n",
    "rmse = np.sqrt(2 * mse)\n",
    "\n",
    "print(\"Least Squares, rmse={loss}\".format(loss=rmse)) "
   ]
  },
  {
   "cell_type": "markdown",
   "metadata": {},
   "source": [
    "### Ridge Regression"
   ]
  },
  {
   "cell_type": "code",
   "execution_count": 13,
   "metadata": {},
   "outputs": [
    {
     "name": "stdout",
     "output_type": "stream",
     "text": [
      "proportion=0.9, degree=10, lambda=0.000, Training RMSE=0.371, Testing RMSE=1.806\n",
      "proportion=0.9, degree=10, lambda=0.000, Training RMSE=0.371, Testing RMSE=1.807\n",
      "proportion=0.9, degree=10, lambda=0.000, Training RMSE=0.371, Testing RMSE=1.807\n",
      "proportion=0.9, degree=10, lambda=0.000, Training RMSE=0.371, Testing RMSE=1.808\n",
      "proportion=0.9, degree=10, lambda=0.000, Training RMSE=0.371, Testing RMSE=1.808\n",
      "proportion=0.9, degree=10, lambda=0.000, Training RMSE=0.371, Testing RMSE=1.808\n",
      "proportion=0.9, degree=10, lambda=0.000, Training RMSE=0.371, Testing RMSE=1.808\n",
      "proportion=0.9, degree=10, lambda=0.000, Training RMSE=0.371, Testing RMSE=1.808\n",
      "proportion=0.9, degree=10, lambda=0.000, Training RMSE=0.371, Testing RMSE=1.808\n",
      "proportion=0.9, degree=10, lambda=0.000, Training RMSE=0.371, Testing RMSE=1.808\n",
      "proportion=0.9, degree=10, lambda=0.000, Training RMSE=0.371, Testing RMSE=1.808\n",
      "proportion=0.9, degree=10, lambda=0.000, Training RMSE=0.371, Testing RMSE=1.808\n",
      "proportion=0.9, degree=10, lambda=0.000, Training RMSE=0.371, Testing RMSE=1.808\n",
      "proportion=0.9, degree=10, lambda=0.000, Training RMSE=0.371, Testing RMSE=1.808\n",
      "proportion=0.9, degree=10, lambda=0.000, Training RMSE=0.371, Testing RMSE=1.808\n",
      "proportion=0.9, degree=10, lambda=0.000, Training RMSE=0.371, Testing RMSE=1.808\n",
      "proportion=0.9, degree=10, lambda=0.000, Training RMSE=0.371, Testing RMSE=1.808\n",
      "proportion=0.9, degree=10, lambda=0.000, Training RMSE=0.371, Testing RMSE=1.807\n",
      "proportion=0.9, degree=10, lambda=0.000, Training RMSE=0.371, Testing RMSE=1.807\n",
      "proportion=0.9, degree=10, lambda=0.000, Training RMSE=0.371, Testing RMSE=1.806\n",
      "proportion=0.9, degree=10, lambda=0.000, Training RMSE=0.371, Testing RMSE=1.805\n",
      "proportion=0.9, degree=10, lambda=0.000, Training RMSE=0.371, Testing RMSE=1.803\n",
      "proportion=0.9, degree=10, lambda=0.000, Training RMSE=0.371, Testing RMSE=1.802\n",
      "proportion=0.9, degree=10, lambda=0.000, Training RMSE=0.371, Testing RMSE=1.799\n",
      "proportion=0.9, degree=10, lambda=0.000, Training RMSE=0.371, Testing RMSE=1.795\n",
      "proportion=0.9, degree=10, lambda=0.000, Training RMSE=0.371, Testing RMSE=1.790\n",
      "proportion=0.9, degree=10, lambda=0.000, Training RMSE=0.371, Testing RMSE=1.782\n",
      "proportion=0.9, degree=10, lambda=0.000, Training RMSE=0.371, Testing RMSE=1.769\n",
      "proportion=0.9, degree=10, lambda=0.000, Training RMSE=0.371, Testing RMSE=1.749\n",
      "proportion=0.9, degree=10, lambda=0.000, Training RMSE=0.371, Testing RMSE=1.718\n",
      "proportion=0.9, degree=10, lambda=0.000, Training RMSE=0.371, Testing RMSE=1.671\n",
      "proportion=0.9, degree=10, lambda=0.000, Training RMSE=0.371, Testing RMSE=1.604\n",
      "proportion=0.9, degree=10, lambda=0.000, Training RMSE=0.371, Testing RMSE=1.512\n",
      "proportion=0.9, degree=10, lambda=0.001, Training RMSE=0.371, Testing RMSE=1.392\n",
      "proportion=0.9, degree=10, lambda=0.001, Training RMSE=0.371, Testing RMSE=1.245\n",
      "proportion=0.9, degree=10, lambda=0.001, Training RMSE=0.372, Testing RMSE=1.079\n",
      "proportion=0.9, degree=10, lambda=0.002, Training RMSE=0.372, Testing RMSE=0.919\n",
      "proportion=0.9, degree=10, lambda=0.004, Training RMSE=0.372, Testing RMSE=0.798\n",
      "proportion=0.9, degree=10, lambda=0.006, Training RMSE=0.373, Testing RMSE=0.731\n",
      "proportion=0.9, degree=10, lambda=0.009, Training RMSE=0.374, Testing RMSE=0.698\n",
      "proportion=0.9, degree=10, lambda=0.015, Training RMSE=0.375, Testing RMSE=0.676\n",
      "proportion=0.9, degree=10, lambda=0.023, Training RMSE=0.376, Testing RMSE=0.667\n",
      "proportion=0.9, degree=10, lambda=0.037, Training RMSE=0.379, Testing RMSE=0.668\n",
      "proportion=0.9, degree=10, lambda=0.060, Training RMSE=0.382, Testing RMSE=0.758\n",
      "proportion=0.9, degree=10, lambda=0.095, Training RMSE=0.465, Testing RMSE=7.001\n",
      "proportion=0.9, degree=10, lambda=0.153, Training RMSE=0.392, Testing RMSE=1.188\n",
      "proportion=0.9, degree=10, lambda=0.244, Training RMSE=0.395, Testing RMSE=0.740\n",
      "proportion=0.9, degree=10, lambda=0.391, Training RMSE=0.400, Testing RMSE=0.513\n",
      "proportion=0.9, degree=10, lambda=0.625, Training RMSE=0.406, Testing RMSE=0.610\n",
      "proportion=0.9, degree=10, lambda=1.000, Training RMSE=0.439, Testing RMSE=6.152\n"
     ]
    },
    {
     "data": {
      "image/png": "[encoded data removed]",
      "text/plain": [
       "<Figure size 432x288 with 1 Axes>"
      ]
     },
     "metadata": {},
     "output_type": "display_data"
    }
   ],
   "source": [
    "def ridge_regression_demo(x, y, degree, ratio, seed):\n",
    "    \"\"\"ridge regression demo.\"\"\"\n",
    "    # define parameter\n",
    "    lambdas = np.logspace(-10, 0, 50)\n",
    "    # split data\n",
    "    x_tr, x_te, y_tr, y_te = split_data(x, y, ratio, seed)\n",
    "    # form tx\n",
    "    tx_tr = build_poly(x_tr, degree)\n",
    "    tx_te = build_poly(x_te, degree)\n",
    "\n",
    "    # ridge regression with different lambda\n",
    "    rmse_tr = []\n",
    "    rmse_te = []\n",
    "    for ind, lambda_ in enumerate(lambdas):\n",
    "        # ridge regression\n",
    "        weight = ridge_regression(y_tr, tx_tr, lambda_)\n",
    "        rmse_tr.append(np.sqrt(2 * compute_loss(y_tr, tx_tr, weight)))\n",
    "        rmse_te.append(np.sqrt(2 * compute_loss(y_te, tx_te, weight)))\n",
    "\n",
    "        print(\"proportion={p}, degree={d}, lambda={l:.3f}, Training RMSE={tr:.3f}, Testing RMSE={te:.3f}\".format(\n",
    "               p=ratio, d=degree, l=lambda_, tr=rmse_tr[ind], te=rmse_te[ind]))\n",
    "    plot_train_test(rmse_tr, rmse_te, lambdas, degree)\n",
    "    \n",
    "seed = 1\n",
    "degree = 10\n",
    "split_ratio = 0.9\n",
    "ridge_regression_demo(x, y, degree, split_ratio, seed)"
   ]
  },
  {
   "cell_type": "markdown",
   "metadata": {},
   "source": [
    "### Logistic Regression"
   ]
  },
  {
   "cell_type": "code",
   "execution_count": 200,
   "metadata": {
    "collapsed": true
   },
   "outputs": [],
   "source": []
  },
  {
   "cell_type": "code",
   "execution_count": 10,
   "metadata": {},
   "outputs": [],
   "source": [
    "def logistic_regression_gradient_descent_demo(y, tx):\n",
    "    y = np.expand_dims(y, axis=1)\n",
    "    # init parameters\n",
    "    max_iter = 10000\n",
    "    threshold = 1e-8\n",
    "    gamma = 0.01\n",
    "    losses = []\n",
    "\n",
    "    # build tx\n",
    "   # tx = np.c_[np.ones((y.shape[0], 1)), x]\n",
    "    w = np.zeros((tx.shape[1], 1))\n",
    "    t = tx.dot(w);\n",
    "\n",
    "    # start the logistic regression\n",
    "    for iter in range(max_iter):\n",
    "        # get loss and update w.\n",
    "        \n",
    "        loss, w = learning_by_gradient_descent(y, tx, w, gamma)\n",
    "        \n",
    "        # log info\n",
    "        #if iter % 100 == 0:\n",
    "            #print(\"Current iteration={i}, loss={l}\".format(i=iter, l=loss))\n",
    "            \n",
    "                \n",
    "        # converge criterion\n",
    "        losses.append(loss)\n",
    "        if len(losses) > 1 and np.abs(losses[-1] - losses[-2]) < threshold:\n",
    "            break\n",
    "    # visualization\n",
    "    #visualization(y, x, mean_x, std_x, w, \"classification_by_logistic_regression_gradient_descent\")\n",
    "    print(\"loss={l}\".format(l=compute_log_loss(y, tx, w)))\n",
    "    return w\n",
    "\n",
    "#w = logistic_regression_gradient_descent_demo(y, tx)"
   ]
  },
  {
   "cell_type": "markdown",
   "metadata": {},
   "source": [
    "### Cross Validation"
   ]
  },
  {
   "cell_type": "code",
   "execution_count": 26,
   "metadata": {},
   "outputs": [
    {
     "data": {
      "image/png": "[encoded data removed]",
      "text/plain": [
       "<Figure size 432x288 with 1 Axes>"
      ]
     },
     "metadata": {},
     "output_type": "display_data"
    }
   ],
   "source": [
    "def cross_validation_demo(y,x):\n",
    "    seed = 1\n",
    "    degree = 7\n",
    "    k_fold = 4\n",
    "    lambdas = np.logspace(-10, 0, 50)\n",
    "    # split data in k fold\n",
    "    k_indices = build_k_indices(y, k_fold, seed)\n",
    "    # define lists to store the loss of training data and test data\n",
    "    rmse_tr = []\n",
    "    rmse_te = []\n",
    "    # ***************************************************\n",
    "    # INSERT YOUR CODE HERE\n",
    "    rmse_tr = []\n",
    "    rmse_te = []\n",
    "    for ind, lambda_ in enumerate(lambdas):\n",
    "        # ridge regression\n",
    "        for k in range(4):\n",
    "            [a,b] = cross_validation(y,x,k_indices,k,lambda_,degree)\n",
    "            rmse_tr.append(a)\n",
    "            rmse_te.append(b)\n",
    "    rmse_tr = np.asarray(rmse_tr).reshape(-1,4)\n",
    "    rmse_te = np.asarray(rmse_te).reshape(-1,4)\n",
    "    rmse_tr = np.mean(rmse_tr,axis=1)\n",
    "    rmse_te = np.mean(rmse_te,axis=1)\n",
    "    # cross validation: TODO\n",
    "    # ***************************************************   \n",
    "    cross_validation_visualization(lambdas,rmse_tr,rmse_te)\n",
    "cross_validation_demo(y,tx)"
   ]
  },
  {
   "cell_type": "markdown",
   "metadata": {
    "collapsed": true
   },
   "source": [
    "### TEST"
   ]
  },
  {
   "cell_type": "code",
   "execution_count": 7,
   "metadata": {
    "collapsed": true
   },
   "outputs": [],
   "source": [
    "test_label,test_data,test_id_ = load_csv_data(\"test.csv\", sub_sample=False)"
   ]
  },
  {
   "cell_type": "code",
   "execution_count": 17,
   "metadata": {},
   "outputs": [],
   "source": [
    "test_data = clean_data(test_data)"
   ]
  },
  {
   "cell_type": "code",
   "execution_count": 8,
   "metadata": {},
   "outputs": [],
   "source": [
    "x_test,mean_test,std_x_test = standardize(test_data)\n",
    "y_test,tx_test = build_model_data(test_label,x_test)"
   ]
  },
  {
   "cell_type": "code",
   "execution_count": 11,
   "metadata": {},
   "outputs": [
    {
     "name": "stderr",
     "output_type": "stream",
     "text": [
      "/Users/erdembocugoz/Desktop/Machine Learning/MLProject1/implementations.py:130: RuntimeWarning: overflow encountered in exp\n",
      "  return 1.0 / (1 + np.exp(-t))\n"
     ]
    },
    {
     "name": "stdout",
     "output_type": "stream",
     "text": [
      "loss=184883.9378858205\n"
     ]
    }
   ],
   "source": [
    "#weight = logistic_regression_gradient_descent_demo(y,tx)\n",
    "weights = logistic_regression_gradient_descent_demo(y, tx)"
   ]
  },
  {
   "cell_type": "code",
   "execution_count": 12,
   "metadata": {
    "collapsed": true
   },
   "outputs": [],
   "source": [
    "y_pred = predict_labels(weights,tx_test)"
   ]
  },
  {
   "cell_type": "code",
   "execution_count": 21,
   "metadata": {},
   "outputs": [
    {
     "data": {
      "text/plain": [
       "array([ 1.,  1.,  1., ...,  1.,  1.,  1.])"
      ]
     },
     "execution_count": 21,
     "metadata": {},
     "output_type": "execute_result"
    }
   ],
   "source": []
  },
  {
   "cell_type": "code",
   "execution_count": 13,
   "metadata": {
    "collapsed": true
   },
   "outputs": [],
   "source": [
    "create_csv_submission(test_id_,y_pred,\"logisticReg_submission.csv\")"
   ]
  },
  {
   "cell_type": "code",
   "execution_count": null,
   "metadata": {
    "collapsed": true
   },
   "outputs": [],
   "source": []
  }
 ],
 "metadata": {
  "kernelspec": {
   "display_name": "Python 3",
   "language": "python",
   "name": "python3"
  },
  "language_info": {
   "codemirror_mode": {
    "name": "ipython",
    "version": 3
   },
   "file_extension": ".py",
   "mimetype": "text/x-python",
   "name": "python",
   "nbconvert_exporter": "python",
   "pygments_lexer": "ipython3",
   "version": "3.6.4"
  }
 },
 "nbformat": 4,
 "nbformat_minor": 2
}
