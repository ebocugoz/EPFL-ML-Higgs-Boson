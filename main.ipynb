{
 "cells": [
  {
   "cell_type": "markdown",
   "metadata": {},
   "source": [
    "### MACHINE LEARNING PROJECT I"
   ]
  },
  {
   "cell_type": "code",
   "execution_count": 156,
   "metadata": {},
   "outputs": [
    {
     "name": "stdout",
     "output_type": "stream",
     "text": [
      "The autoreload extension is already loaded. To reload it, use:\n",
      "  %reload_ext autoreload\n"
     ]
    }
   ],
   "source": [
    "# Useful starting lines\n",
    "%matplotlib inline\n",
    "import numpy as np\n",
    "import datetime\n",
    "import matplotlib.pyplot as plt\n",
    "from proj1_helpers import *\n",
    "from implementations import *\n",
    "from test import *\n",
    "%load_ext autoreload\n",
    "%autoreload 2"
   ]
  },
  {
   "cell_type": "code",
   "execution_count": 262,
   "metadata": {},
   "outputs": [],
   "source": [
    "prediction,data,id_ = load_csv_data(\"train.csv\", sub_sample=False)\n",
    "prediction_test,data_test,id_test = load_csv_data(\"test.csv\", sub_sample=False)"
   ]
  },
  {
   "cell_type": "code",
   "execution_count": 264,
   "metadata": {
    "collapsed": true
   },
   "outputs": [],
   "source": [
    "data2 = data.copy();"
   ]
  },
  {
   "cell_type": "code",
   "execution_count": 265,
   "metadata": {},
   "outputs": [],
   "source": [
    "def nan_if (arr,value):\n",
    "    return ( np.where(arr==value,np.nan,arr))\n",
    "\n",
    "means = np.nanmean(nan_if(data2,-999),axis = 0)\n",
    "\n",
    "for i,mean in enumerate(means):\n",
    "   \n",
    "    data2[:,i][np.where(data2[:,i] == -999)] = mean\n",
    "    \n",
    "  \n",
    "    \n",
    "    \n",
    "\n"
   ]
  },
  {
   "cell_type": "code",
   "execution_count": 266,
   "metadata": {},
   "outputs": [],
   "source": [
    "np.where((data[:,0]==-999) == True)\n",
    "data = data2"
   ]
  },
  {
   "cell_type": "markdown",
   "metadata": {},
   "source": []
  },
  {
   "cell_type": "code",
   "execution_count": 267,
   "metadata": {},
   "outputs": [],
   "source": [
    "x,mean_x,std_x = standardize(data)\n",
    "y,tx = build_model_data(prediction,x)"
   ]
  },
  {
   "cell_type": "code",
   "execution_count": 268,
   "metadata": {},
   "outputs": [
    {
     "data": {
      "text/plain": [
       "array([ 11.66564355,   6.55046017,  13.26888017,  28.40852916,\n",
       "        -0.39516951,  50.2162158 ,  -0.31173904,  -0.42389682,\n",
       "        28.40852916,  18.39588464,  -0.28032141,  -0.46741069,\n",
       "        -0.4716296 ,   7.30795827,  -0.45637427,  -0.44980133,\n",
       "         5.22767914,  -0.45631312,  -0.44980133,  28.48616117,\n",
       "        -0.44980133,  19.93990367,  -0.4512484 ,  10.93749439,\n",
       "        -0.43597268,  -0.44981152,   6.87025149,  -0.43596249,\n",
       "        -0.44980133,  16.16384705])"
      ]
     },
     "execution_count": 268,
     "metadata": {},
     "output_type": "execute_result"
    }
   ],
   "source": [
    "np.max(x,axis=0)"
   ]
  },
  {
   "cell_type": "code",
   "execution_count": 269,
   "metadata": {},
   "outputs": [
    {
     "data": {
      "text/plain": [
       "((250000,), (250000, 31))"
      ]
     },
     "execution_count": 269,
     "metadata": {},
     "output_type": "execute_result"
    }
   ],
   "source": [
    "y.shape, tx.shape"
   ]
  },
  {
   "cell_type": "markdown",
   "metadata": {},
   "source": [
    "### Gradient Descent"
   ]
  },
  {
   "cell_type": "code",
   "execution_count": 270,
   "metadata": {},
   "outputs": [
    {
     "name": "stdout",
     "output_type": "stream",
     "text": [
      "Gradient Descent(0/4): loss=0.5\n",
      "Gradient Descent(1/4): loss=0.4943877286462252\n",
      "Gradient Descent(2/4): loss=0.4898885424122125\n",
      "Gradient Descent(3/4): loss=0.48624925358241516\n",
      "Gradient Descent(4/4): loss=0.4832747875708949\n",
      "Gradient Descent: execution time=0.058 seconds\n"
     ]
    }
   ],
   "source": [
    "# Define the parameters of the algorithm.\n",
    "max_iters = 5\n",
    "gamma = 0.005\n",
    "\n",
    "# Initialization\n",
    "w_initial = np.zeros(tx.shape[1])\n",
    "\n",
    "# Start gradient descent.\n",
    "start_time = datetime.datetime.now()\n",
    "gradient_losses, gradient_ws = gradient_descent(y, tx, w_initial, max_iters, gamma)\n",
    "end_time = datetime.datetime.now()\n",
    "\n",
    "# Print result\n",
    "exection_time = (end_time - start_time).total_seconds()\n",
    "print(\"Gradient Descent: execution time={t:.3f} seconds\".format(t=exection_time))"
   ]
  },
  {
   "cell_type": "markdown",
   "metadata": {},
   "source": [
    "### Stochastic Gradient Descent"
   ]
  },
  {
   "cell_type": "code",
   "execution_count": 271,
   "metadata": {},
   "outputs": [
    {
     "name": "stdout",
     "output_type": "stream",
     "text": [
      "SGD(0/4): loss=0.4833926808253446\n",
      "SGD(1/4): loss=0.47640620639271497\n",
      "SGD(2/4): loss=0.4789197337684501\n",
      "SGD(3/4): loss=0.48774194358241096\n",
      "SGD(4/4): loss=0.49850182846310853\n",
      "SGD: execution time=0.349 seconds\n"
     ]
    }
   ],
   "source": [
    "# Define the parameters of the algorithm.\n",
    "max_iters = 5\n",
    "gamma = 0.005\n",
    "batch_size = 1\n",
    "\n",
    "# Initialization\n",
    "w_initial = np.zeros(tx.shape[1])\n",
    "\n",
    "# Start SGD.\n",
    "start_time = datetime.datetime.now()\n",
    "sgd_losses, sgd_ws = stochastic_gradient_descent(\n",
    "    y, tx, w_initial, batch_size, max_iters, gamma)\n",
    "end_time = datetime.datetime.now()\n",
    "\n",
    "# Print result\n",
    "exection_time = (end_time - start_time).total_seconds()\n",
    "print(\"SGD: execution time={t:.3f} seconds\".format(t=exection_time))"
   ]
  },
  {
   "cell_type": "markdown",
   "metadata": {},
   "source": [
    "### Least Squares"
   ]
  },
  {
   "cell_type": "code",
   "execution_count": 272,
   "metadata": {},
   "outputs": [
    {
     "name": "stdout",
     "output_type": "stream",
     "text": [
      "Least Squares, rmse=0.8251175094028171\n"
     ]
    }
   ],
   "source": [
    "weights = least_squares(y, tx)\n",
    "# compute RMSE\n",
    "mse = compute_loss(y, tx, weights)\n",
    "rmse = np.sqrt(2 * mse)\n",
    "\n",
    "print(\"Least Squares, rmse={loss}\".format(loss=rmse)) "
   ]
  },
  {
   "cell_type": "markdown",
   "metadata": {},
   "source": [
    "### Ridge Regression"
   ]
  },
  {
   "cell_type": "code",
   "execution_count": 275,
   "metadata": {},
   "outputs": [
    {
     "name": "stdout",
     "output_type": "stream",
     "text": [
      "proportion=0.9, degree=10, lambda=0.000, Training RMSE=0.751, Testing RMSE=1.820\n",
      "proportion=0.9, degree=10, lambda=0.000, Training RMSE=0.752, Testing RMSE=1.756\n",
      "proportion=0.9, degree=10, lambda=0.000, Training RMSE=0.752, Testing RMSE=1.686\n",
      "proportion=0.9, degree=10, lambda=0.000, Training RMSE=0.752, Testing RMSE=1.609\n",
      "proportion=0.9, degree=10, lambda=0.000, Training RMSE=0.753, Testing RMSE=1.528\n",
      "proportion=0.9, degree=10, lambda=0.000, Training RMSE=0.753, Testing RMSE=1.444\n",
      "proportion=0.9, degree=10, lambda=0.000, Training RMSE=0.753, Testing RMSE=1.358\n",
      "proportion=0.9, degree=10, lambda=0.000, Training RMSE=0.753, Testing RMSE=1.271\n",
      "proportion=0.9, degree=10, lambda=0.000, Training RMSE=0.754, Testing RMSE=1.186\n",
      "proportion=0.9, degree=10, lambda=0.000, Training RMSE=0.754, Testing RMSE=1.105\n",
      "proportion=0.9, degree=10, lambda=0.000, Training RMSE=0.754, Testing RMSE=1.031\n",
      "proportion=0.9, degree=10, lambda=0.000, Training RMSE=0.755, Testing RMSE=0.964\n",
      "proportion=0.9, degree=10, lambda=0.000, Training RMSE=0.755, Testing RMSE=0.908\n",
      "proportion=0.9, degree=10, lambda=0.000, Training RMSE=0.755, Testing RMSE=0.863\n",
      "proportion=0.9, degree=10, lambda=0.000, Training RMSE=0.755, Testing RMSE=0.830\n",
      "proportion=0.9, degree=10, lambda=0.000, Training RMSE=0.755, Testing RMSE=0.809\n",
      "proportion=0.9, degree=10, lambda=0.000, Training RMSE=0.756, Testing RMSE=0.799\n",
      "proportion=0.9, degree=10, lambda=0.000, Training RMSE=0.756, Testing RMSE=0.798\n",
      "proportion=0.9, degree=10, lambda=0.000, Training RMSE=0.756, Testing RMSE=0.804\n",
      "proportion=0.9, degree=10, lambda=0.000, Training RMSE=0.756, Testing RMSE=0.815\n",
      "proportion=0.9, degree=10, lambda=0.000, Training RMSE=0.756, Testing RMSE=0.828\n",
      "proportion=0.9, degree=10, lambda=0.000, Training RMSE=0.757, Testing RMSE=0.842\n",
      "proportion=0.9, degree=10, lambda=0.000, Training RMSE=0.757, Testing RMSE=0.855\n",
      "proportion=0.9, degree=10, lambda=0.000, Training RMSE=0.757, Testing RMSE=0.866\n",
      "proportion=0.9, degree=10, lambda=0.000, Training RMSE=0.758, Testing RMSE=0.874\n",
      "proportion=0.9, degree=10, lambda=0.000, Training RMSE=0.758, Testing RMSE=0.880\n",
      "proportion=0.9, degree=10, lambda=0.000, Training RMSE=0.758, Testing RMSE=0.882\n",
      "proportion=0.9, degree=10, lambda=0.000, Training RMSE=0.759, Testing RMSE=0.881\n",
      "proportion=0.9, degree=10, lambda=0.000, Training RMSE=0.759, Testing RMSE=0.876\n",
      "proportion=0.9, degree=10, lambda=0.000, Training RMSE=0.759, Testing RMSE=0.869\n"
     ]
    },
    {
     "data": {
      "image/png": "[encoded data removed]",
      "text/plain": [
       "<Figure size 432x288 with 1 Axes>"
      ]
     },
     "metadata": {},
     "output_type": "display_data"
    }
   ],
   "source": [
    "def ridge_regression_demo(x, y, degree, ratio, seed):\n",
    "    \"\"\"ridge regression demo.\"\"\"\n",
    "    # define parameter\n",
    "    lambdas = np.logspace(-7, -5, 30)\n",
    "    # split data\n",
    "    x_tr, x_te, y_tr, y_te = split_data(x, y, ratio, seed)\n",
    "    # form tx\n",
    "    tx_tr = build_poly(x_tr, degree)\n",
    "    tx_te = build_poly(x_te, degree)\n",
    "\n",
    "    # ridge regression with different lambda\n",
    "    rmse_tr = []\n",
    "    rmse_te = []\n",
    "    for ind, lambda_ in enumerate(lambdas):\n",
    "        # ridge regression\n",
    "        weight = ridge_regression(y_tr, tx_tr, lambda_)\n",
    "        rmse_tr.append(np.sqrt(2 * compute_loss(y_tr, tx_tr, weight)))\n",
    "        rmse_te.append(np.sqrt(2 * compute_loss(y_te, tx_te, weight)))\n",
    "\n",
    "        print(\"proportion={p}, degree={d}, lambda={l:.3f}, Training RMSE={tr:.3f}, Testing RMSE={te:.3f}\".format(\n",
    "               p=ratio, d=degree, l=lambda_, tr=rmse_tr[ind], te=rmse_te[ind]))\n",
    "    plot_train_test(rmse_tr, rmse_te, lambdas, degree)\n",
    "    \n",
    "seed = 56\n",
    "degree = 10\n",
    "split_ratio = 0.9\n",
    "ridge_regression_demo(x, y, degree, split_ratio, seed)"
   ]
  },
  {
   "cell_type": "code",
   "execution_count": 247,
   "metadata": {},
   "outputs": [
    {
     "data": {
      "image/png": "[encoded data removed]",
      "text/plain": [
       "<Figure size 432x288 with 1 Axes>"
      ]
     },
     "metadata": {},
     "output_type": "display_data"
    }
   ],
   "source": [
    "def cross_validation_demo():\n",
    "    seed = 1\n",
    "    degree = 7\n",
    "    k_fold = 4\n",
    "    lambdas = np.logspace(-10, 0, 50)\n",
    "    # split data in k fold\n",
    "    k_indices = build_k_indices(y, k_fold, seed)\n",
    "    # define lists to store the loss of training data and test data\n",
    "    rmse_tr = []\n",
    "    rmse_te = []\n",
    "    # ***************************************************\n",
    "    # INSERT YOUR CODE HERE\n",
    "    rmse_tr = []\n",
    "    rmse_te = []\n",
    "    for ind, lambda_ in enumerate(lambdas):\n",
    "        # ridge regression\n",
    "        for k in range(4):\n",
    "            [a,b] = cross_validation(y,x,k_indices,k,lambda_,degree)\n",
    "            rmse_tr.append(a)\n",
    "            rmse_te.append(b)\n",
    "    rmse_tr = np.asarray(rmse_tr).reshape(-1,4)\n",
    "    rmse_te = np.asarray(rmse_te).reshape(-1,4)\n",
    "    rmse_tr = np.mean(rmse_tr,axis=1)\n",
    "    rmse_te = np.mean(rmse_te,axis=1)\n",
    "    # cross validation: TODO\n",
    "    # ***************************************************   \n",
    "    cross_validation_visualization(lambdas,rmse_tr,rmse_te)\n",
    "cross_validation_demo()"
   ]
  },
  {
   "cell_type": "code",
   "execution_count": null,
   "metadata": {
    "collapsed": true
   },
   "outputs": [],
   "source": []
  },
  {
   "cell_type": "code",
   "execution_count": null,
   "metadata": {
    "collapsed": true
   },
   "outputs": [],
   "source": []
  }
 ],
 "metadata": {
  "kernelspec": {
   "display_name": "Python 3",
   "language": "python",
   "name": "python3"
  },
  "language_info": {
   "codemirror_mode": {
    "name": "ipython",
    "version": 3
   },
   "file_extension": ".py",
   "mimetype": "text/x-python",
   "name": "python",
   "nbconvert_exporter": "python",
   "pygments_lexer": "ipython3",
   "version": "3.6.4"
  }
 },
 "nbformat": 4,
 "nbformat_minor": 2
}
